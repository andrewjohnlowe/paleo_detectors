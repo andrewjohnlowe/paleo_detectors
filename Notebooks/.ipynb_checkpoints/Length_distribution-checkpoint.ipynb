{
 "cells": [
  {
   "cell_type": "markdown",
   "metadata": {},
   "source": [
    "# Calculating the rate as a function of track length"
   ]
  },
  {
   "cell_type": "code",
   "execution_count": 1,
   "metadata": {},
   "outputs": [],
   "source": [
    "import numpy as np\n",
    "import matplotlib.pyplot as plt\n",
    "from matplotlib import rc\n",
    "from tqdm import tqdm\n",
    "import swordfish as sf\n",
    "from WIMpy import DMUtils as DMU\n",
    "\n",
    "rc('text', usetex=True)\n",
    "rc('font',**{'family':'sans-serif','sans-serif':['cmr']})\n",
    "rc('font',**{'family':'serif','serif':['cmr']})\n",
    "%matplotlib inline"
   ]
  },
  {
   "cell_type": "markdown",
   "metadata": {},
   "source": [
    "To try match 1806.05991 we are going to consider the Halite material (since this is what they present). Halite is made of NaCl but we dont know the Cl form factor now so we use Na23 as a starting point."
   ]
  },
  {
   "cell_type": "code",
   "execution_count": 126,
   "metadata": {},
   "outputs": [],
   "source": [
    "E_list = np.logspace(0, 2, 10)\n",
    "# m_x = 500.0 #GeV\n",
    "\n",
    "def calcdRdE(ER_keV, m_x, cp, cn, **kwargs):\n",
    "    #Load in the list of nuclear spins, atomic masses and mass fractions\n",
    "    nuclei_Halite = [\"Na23\"]\n",
    "    frac_list_Halite = [1.0]\n",
    "    frac_vals = dict(zip(nuclei_Halite, frac_list_Halite))\n",
    "\n",
    "    dRdE = np.zeros_like(ER_keV)\n",
    "    for nuc in nuclei_Halite:\n",
    "        dRdE += frac_vals[nuc]*DMU.dRdE_NREFT(ER_keV, m_x, cp, cn, nuc, **kwargs)\n",
    "    return dRdE"
   ]
  },
  {
   "cell_type": "code",
   "execution_count": 127,
   "metadata": {},
   "outputs": [
    {
     "name": "stderr",
     "output_type": "stream",
     "text": [
      "/usr/local/lib/python3.6/site-packages/matplotlib/font_manager.py:1328: UserWarning: findfont: Font family ['serif'] not found. Falling back to DejaVu Sans\n",
      "  (prop.get_family(), self.defaultFamily[fontext]))\n"
     ]
    },
    {
     "data": {
      "image/png": "[encoded data removed]",
      "text/plain": [
       "<Figure size 432x288 with 1 Axes>"
      ]
     },
     "metadata": {},
     "output_type": "display_data"
    }
   ],
   "source": [
    "cp = np.zeros(11)\n",
    "cp[0] = 1e-6\n",
    "cn = cp\n",
    "\n",
    "dRdE = calcdRdE(E_list, 10, cp, cn)\n",
    "plt.plot(E_list, dRdE)\n",
    "plt.show()"
   ]
  },
  {
   "cell_type": "markdown",
   "metadata": {},
   "source": [
    "We have the recoil rate, as a function of recoil energy but the observable is actually the recoils as a function of track length. The translation is done using \n",
    "\n",
    "$$ x_t(E_R) = \\int_0^{E_R} dE \\left(\\frac{dE}{dx_t}(E)\\right)^{-1}$$\n",
    "\n",
    "where $\\frac{dE}{dx_t}$ is given by [this paper](https://journals.aps.org/prb/pdf/10.1103/PhysRevB.15.2458),\n",
    "\n",
    "$$ \\frac{dE}{dx_t} = N \\int_0^{T_m} T \\sigma(T) dT$$\n",
    "\n",
    "where $T_m = \\gamma E$, $\\gamma=\\frac{4 M_1 M_2}{(M_1+M_2)^2}$, $\\sigma(T) = \\sigma(\\theta)\\frac{4 \\pi}{\\gamma E}$, $N$ is the atomic density of the target, $M1$ is the mass of the stopping nuclei, and $M_2$ is the mass of the target nuclei i.e. 23 GeV for Na23. $T = \\gamma E\\sin^2(\\theta/2) $ and, finally, \n",
    "\n",
    "$$\\theta = \\pi - 2\\int^\\inf_{r_0} \\frac{p dr}{r^2\\left[1-V(r)/E_c-p^2/r^2\\right]^{1/2}}$$\n",
    "\n",
    "We also need $\\sigma(\\theta) = \\frac{-p}{\\sin\\theta}\\frac{dp}{d\\theta}$, $E_c=\\frac{E M_1}{(M_1+M_2)}$, $r_0$ is given by the root of $1-V(r)/E_c-p^2/r^2$"
   ]
  },
  {
   "cell_type": "code",
   "execution_count": 156,
   "metadata": {},
   "outputs": [],
   "source": [
    "from scipy.integrate import quad\n",
    "from scipy import optimize\n",
    "# p is the impact parameter in nanometres\n",
    "M_Ca = 23.*1.e6 # keV\n",
    "m_DM = 100.*1.e6 # keV\n",
    "ZCa = 11\n",
    "e = 0.303\n",
    "INVnm_to_keV = 0.197326979 # change inverse nanometres to keV (1 nm^-1 * hbar * c to keV)\n",
    "V = lambda r: (ZCa**2.*e**2./r)*INVnm_to_keV # Add conversion factor to get V in keV\n",
    "\n",
    "def calc_theta(p, E):\n",
    "    Ec = M_Ca*E/(2*M_Ca)\n",
    "    root = lambda r: 1-V(r)/Ec-p**2/r**2\n",
    "    r0temp = optimize.brentq(root, 0.001, 100000)\n",
    "    r0 = r0temp + 0.01*r0temp # for the numerics of the integral this needs to be slightly higher than the root\n",
    "    \n",
    "    integrand = lambda r: p/r**2./(1-V(r)/Ec-p**2/r**2)**0.5\n",
    "    I = quad(integrand,r0,np.inf)[0]\n",
    "    return np.pi - 2.*I\n",
    "\n",
    "def calc_dpdtheta(p, E):\n",
    "    Ec = M_Ca*E/(2*M_Ca)\n",
    "    root = lambda r: 1-V(r)/Ec-p**2/r**2\n",
    "    r0temp = optimize.brentq(root, 0.001, 100000)\n",
    "    r0 = r0temp + 0.01*r0temp # for the numerics of the integral this needs to be slightly higher than the root\n",
    "    \n",
    "    dp = np.array([p-p*0.001,p,p+p*0.001])\n",
    "    pdiv = np.zeros_like(dp)\n",
    "    for i, ptemp in enumerate(dp):\n",
    "        integrand = lambda r: ptemp/r**2./(1-V(r)/Ec-ptemp**2/r**2)**0.5\n",
    "        pdiv[i] = -2*quad(integrand,r0,np.inf)[0]\n",
    "    \n",
    "    dpdtheta = np.gradient(pdiv)[1]\n",
    "    return 1./dpdtheta\n",
    "\n",
    "def calc_sigmaT(T, E, p):\n",
    "    gamma = 4.*M_Ca**2./((2*M_Ca)**2.)\n",
    "    theta = calc_theta(p, E)\n",
    "    sigma_theta = -p*calc_dpdtheta(p, E)/np.sin(theta)\n",
    "    return 4.*np.pi*sigma_theta/gamma/E\n",
    "\n",
    "def calc_dEdx(E, p):\n",
    "    N = 25.40902838311586 # N nm^-3\n",
    "    gamma = 4.*M_Ca**2./((2.*M_Ca)**2.)\n",
    "    Tm = gamma*E\n",
    "    inte = lambda T: T*calc_sigmaT(T, E, p)\n",
    "    return N*quad(inte, 0., Tm)[0]"
   ]
  },
  {
   "cell_type": "code",
   "execution_count": null,
   "metadata": {},
   "outputs": [],
   "source": [
    "cp = np.zeros(11)\n",
    "cp[0] = 1e-6\n",
    "cn = cp\n",
    "m_dm = 10e6 # keV i.e. 10 GeV\n",
    "\n",
    "################ Calculting the rate\n",
    "dRdE = calcdRdE(E_list, m_dm, cp, cn)\n",
    "dEdx = np.zeros_like(E_list)\n",
    "for i,E in enumerate(E_list):\n",
    "    dEdx[i] = calc_dEdx(E, p)\n",
    "\n",
    "dRdx = dRdE*dEdx\n",
    "\n",
    "################ Calculting the track lengths\n",
    "xlist = np.zeros_like(E_list)\n",
    "temp = lambda E: calc_dEdx(E, p)**-1\n",
    "for i,E in enumerate(E_list):\n",
    "    xlist[i] = quad(temp,0,E)[0]"
   ]
  },
  {
   "cell_type": "code",
   "execution_count": 160,
   "metadata": {},
   "outputs": [
    {
     "name": "stdout",
     "output_type": "stream",
     "text": [
      "[6.39462817e-06 8.36808473e-06 1.01420080e-05 1.17421653e-05\n",
      " 1.32173839e-05 1.46100656e-05 1.59504975e-05 1.72586081e-05\n",
      " 1.85469836e-05 1.98233735e-05] [  1.           1.66810054   2.7825594    4.64158883   7.74263683\n",
      "  12.91549665  21.5443469   35.93813664  59.94842503 100.        ]\n"
     ]
    }
   ],
   "source": [
    "print(xlist, E_list)"
   ]
  },
  {
   "cell_type": "code",
   "execution_count": 161,
   "metadata": {},
   "outputs": [
    {
     "name": "stderr",
     "output_type": "stream",
     "text": [
      "/usr/local/lib/python3.6/site-packages/matplotlib/font_manager.py:1328: UserWarning: findfont: Font family ['serif'] not found. Falling back to DejaVu Sans\n",
      "  (prop.get_family(), self.defaultFamily[fontext]))\n",
      "/usr/local/lib/python3.6/site-packages/matplotlib/font_manager.py:1328: UserWarning: findfont: Font family ['serif'] not found. Falling back to DejaVu Sans\n",
      "  (prop.get_family(), self.defaultFamily[fontext]))\n"
     ]
    },
    {
     "data": {
      "image/png": "[encoded data removed]",
      "text/plain": [
       "<Figure size 432x288 with 1 Axes>"
      ]
     },
     "metadata": {},
     "output_type": "display_data"
    }
   ],
   "source": [
    "plt.loglog(xlist, E_list)\n",
    "# plt.loglog(xlist, dEdx)\n",
    "plt.show()"
   ]
  },
  {
   "cell_type": "code",
   "execution_count": 162,
   "metadata": {},
   "outputs": [
    {
     "name": "stderr",
     "output_type": "stream",
     "text": [
      "/usr/local/lib/python3.6/site-packages/matplotlib/font_manager.py:1328: UserWarning: findfont: Font family ['serif'] not found. Falling back to DejaVu Sans\n",
      "  (prop.get_family(), self.defaultFamily[fontext]))\n",
      "/usr/local/lib/python3.6/site-packages/matplotlib/font_manager.py:1328: UserWarning: findfont: Font family ['serif'] not found. Falling back to DejaVu Sans\n",
      "  (prop.get_family(), self.defaultFamily[fontext]))\n",
      "/usr/local/lib/python3.6/site-packages/matplotlib/font_manager.py:1328: UserWarning: findfont: Font family ['serif'] not found. Falling back to DejaVu Sans\n",
      "  (prop.get_family(), self.defaultFamily[fontext]))\n"
     ]
    },
    {
     "data": {
      "image/png": "[encoded data removed]",
      "text/plain": [
       "<Figure size 432x288 with 1 Axes>"
      ]
     },
     "metadata": {},
     "output_type": "display_data"
    }
   ],
   "source": [
    "plt.loglog(xlist, dRdx)\n",
    "# plt.ylabel(r\"$dR/dx [nm^{−1} kg^{−1} yr^{−1}]$\")\n",
    "# plt.xlabel(r\"$x [nm]$\")\n",
    "plt.show()"
   ]
  },
  {
   "cell_type": "code",
   "execution_count": null,
   "metadata": {},
   "outputs": [],
   "source": []
  }
 ],
 "metadata": {
  "kernelspec": {
   "display_name": "Python 3",
   "language": "python",
   "name": "python3"
  },
  "language_info": {
   "codemirror_mode": {
    "name": "ipython",
    "version": 3
   },
   "file_extension": ".py",
   "mimetype": "text/x-python",
   "name": "python",
   "nbconvert_exporter": "python",
   "pygments_lexer": "ipython3",
   "version": "3.6.5"
  }
 },
 "nbformat": 4,
 "nbformat_minor": 2
}
