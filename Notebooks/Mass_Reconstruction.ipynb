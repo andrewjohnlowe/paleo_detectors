{
 "cells": [
  {
   "cell_type": "markdown",
   "metadata": {},
   "source": [
    "# Mass reconstruction posibilities"
   ]
  },
  {
   "cell_type": "code",
   "execution_count": 1,
   "metadata": {},
   "outputs": [],
   "source": [
    "import numpy as np\n",
    "import matplotlib.pyplot as plt\n",
    "from matplotlib import rc\n",
    "from tqdm import tqdm\n",
    "import swordfish as sf\n",
    "from WIMpy import DMUtils as DMU\n",
    "from scipy.interpolate import interp1d\n",
    "from scipy.integrate import cumtrapz\n",
    "from scipy.integrate import cumtrapz\n",
    "from paleo.paleopy import *\n",
    "\n",
    "rc('text', usetex=True)\n",
    "rc('font',**{'family':'sans-serif','sans-serif':['cmr']})\n",
    "rc('font',**{'family':'serif','serif':['cmr']})\n",
    "%matplotlib inline"
   ]
  },
  {
   "cell_type": "markdown",
   "metadata": {},
   "source": [
    "#### These are the bins we are considering - Change here"
   ]
  },
  {
   "cell_type": "code",
   "execution_count": 7,
   "metadata": {},
   "outputs": [],
   "source": [
    "x_bins = np.linspace(1,1000,67)\n",
    "x_width = np.diff(x_bins)\n",
    "x_c = x_bins[:-1] + x_width/2\n",
    "E_list = np.logspace(-1, 3, 500) # keV"
   ]
  },
  {
   "cell_type": "markdown",
   "metadata": {},
   "source": [
    "#### The region I will consider is between the 95% CL and three orders of magnitude above that. This roughly corresponds to the current sensitivity of Xenon detectors."
   ]
  },
  {
   "cell_type": "code",
   "execution_count": null,
   "metadata": {},
   "outputs": [],
   "source": []
  }
 ],
 "metadata": {
  "kernelspec": {
   "display_name": "Python 3",
   "language": "python",
   "name": "python3"
  },
  "language_info": {
   "codemirror_mode": {
    "name": "ipython",
    "version": 3
   },
   "file_extension": ".py",
   "mimetype": "text/x-python",
   "name": "python",
   "nbconvert_exporter": "python",
   "pygments_lexer": "ipython3",
   "version": "3.6.5"
  }
 },
 "nbformat": 4,
 "nbformat_minor": 2
}
