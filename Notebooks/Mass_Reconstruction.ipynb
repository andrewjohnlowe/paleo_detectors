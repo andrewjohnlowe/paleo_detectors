{
 "cells": [
  {
   "cell_type": "markdown",
   "metadata": {},
   "source": [
    "# Mass reconstruction projections"
   ]
  },
  {
   "cell_type": "code",
   "execution_count": 1,
   "metadata": {},
   "outputs": [],
   "source": [
    "import numpy as np\n",
    "import matplotlib.pyplot as plt\n",
    "from matplotlib import rc\n",
    "import matplotlib as mpl\n",
    "from tqdm import tqdm\n",
    "import swordfish as sf\n",
    "from WIMpy import DMUtils as DMU\n",
    "from scipy.interpolate import interp1d\n",
    "from scipy.integrate import cumtrapz, quad\n",
    "from scipy.special import erf\n",
    "from paleo.paleopy_classes import *\n",
    "import paleo.paleopy as paleopy\n",
    "import os\n",
    "import h5py \n",
    "\n",
    "rc('text', usetex=True)\n",
    "rc('font',**{'family':'sans-serif','sans-serif':['cmr']})\n",
    "rc('font',**{'family':'serif','serif':['cmr']})\n",
    "rc('font', size=16)\n",
    "#mpl.rcParams.update({'font.size': 16,'font.family':'serif'})\n",
    "\n",
    "mpl.rcParams['xtick.top'] = True\n",
    "mpl.rcParams['ytick.right'] = True\n",
    "\n",
    "#%matplotlib inline"
   ]
  },
  {
   "cell_type": "markdown",
   "metadata": {},
   "source": [
    "Now we can load in the material we are interested in i.e. Sinjarite since its the most sensitive"
   ]
  },
  {
   "cell_type": "code",
   "execution_count": 2,
   "metadata": {},
   "outputs": [],
   "source": [
    "Sinj = Mineral(\"Sinjarite\")"
   ]
  },
  {
   "cell_type": "markdown",
   "metadata": {},
   "source": [
    "#### Backgrounds\n",
    "\n",
    "Lets load the backgrounds now"
   ]
  },
  {
   "cell_type": "code",
   "execution_count": 3,
   "metadata": {},
   "outputs": [
    {
     "name": "stdout",
     "output_type": "stream",
     "text": [
      " DMutils.py: Loading neutrino flux for the first time...\n",
      "Loading neutrino fluxes for...\n",
      "    DSNB\n",
      "    atm\n",
      "    hep\n",
      "    8B\n",
      "    15O\n",
      "    17F\n",
      "    pep\n",
      "    13N\n",
      "    pp\n",
      "    7Be-384\n",
      "    7Be-861\n",
      "...done.\n"
     ]
    },
    {
     "name": "stderr",
     "output_type": "stream",
     "text": [
      "/usr/local/lib/python3.6/site-packages/scipy/integrate/quadpack.py:385: IntegrationWarning: The maximum number of subdivisions (50) has been achieved.\n",
      "  If increasing the limit yields no improvement it is advised to analyze \n",
      "  the integrand in order to determine the difficulties.  If the position of a \n",
      "  local difficulty can be determined (singularity, discontinuity) one will \n",
      "  probably gain from splitting up the interval and calling the integrator \n",
      "  on the subranges.  Perhaps a special-purpose integrator should be used.\n",
      "  warnings.warn(msg, IntegrationWarning)\n",
      "/usr/local/lib/python3.6/site-packages/scipy/integrate/quadpack.py:385: IntegrationWarning: The occurrence of roundoff error is detected, which prevents \n",
      "  the requested tolerance from being achieved.  The error may be \n",
      "  underestimated.\n",
      "  warnings.warn(msg, IntegrationWarning)\n"
     ]
    }
   ],
   "source": [
    "# xb = paleopy.calcBins_1nm()\n",
    "# N_BG_1nm_test = paleopy.GetBackground(Sinj, 1.0)\n",
    "N_BG_1nm = paleopy.GetBackground(Sinj, sigma=1.0)\n",
    "N_BG_15nm = paleopy.GetBackground(Sinj, 15.0)"
   ]
  },
  {
   "cell_type": "code",
   "execution_count": 4,
   "metadata": {},
   "outputs": [
    {
     "name": "stdout",
     "output_type": "stream",
     "text": [
      "(13, 69)\n"
     ]
    }
   ],
   "source": [
    "print(np.shape(N_BG_1nm))"
   ]
  },
  {
   "cell_type": "markdown",
   "metadata": {},
   "source": [
    "Quickly look to see they are sensible..."
   ]
  },
  {
   "cell_type": "code",
   "execution_count": 5,
   "metadata": {},
   "outputs": [
    {
     "name": "stderr",
     "output_type": "stream",
     "text": [
      "/usr/local/lib/python3.6/site-packages/matplotlib/font_manager.py:1328: UserWarning: findfont: Font family ['serif'] not found. Falling back to DejaVu Sans\n",
      "  (prop.get_family(), self.defaultFamily[fontext]))\n",
      "/usr/local/lib/python3.6/site-packages/matplotlib/font_manager.py:1328: UserWarning: findfont: Font family ['serif'] not found. Falling back to DejaVu Sans\n",
      "  (prop.get_family(), self.defaultFamily[fontext]))\n",
      "/usr/local/lib/python3.6/site-packages/matplotlib/font_manager.py:1328: UserWarning: findfont: Font family ['serif'] not found. Falling back to DejaVu Sans\n",
      "  (prop.get_family(), self.defaultFamily[fontext]))\n",
      "/usr/local/lib/python3.6/site-packages/matplotlib/font_manager.py:1328: UserWarning: findfont: Font family ['serif'] not found. Falling back to DejaVu Sans\n",
      "  (prop.get_family(), self.defaultFamily[fontext]))\n",
      "/usr/local/lib/python3.6/site-packages/matplotlib/font_manager.py:1328: UserWarning: findfont: Font family ['serif'] not found. Falling back to DejaVu Sans\n",
      "  (prop.get_family(), self.defaultFamily[fontext]))\n"
     ]
    },
    {
     "data": {
      "image/png": "[encoded data removed]",
      "text/plain": [
       "<Figure size 1008x360 with 2 Axes>"
      ]
     },
     "metadata": {},
     "output_type": "display_data"
    }
   ],
   "source": [
    "bkg_list = ['DSNB', 'atm', 'hep', '8B', '15O', '17F', '13N', 'pep','pp','7Be-384','7Be-861', 'fission']\n",
    "\n",
    "f, axarr = plt.subplots(figsize=(14,5), nrows=1, ncols=2, sharey=True)\n",
    "\n",
    "ax1, ax2 = axarr\n",
    "\n",
    "ax1.set_xscale(\"log\")\n",
    "ax1.set_yscale(\"log\")\n",
    "\n",
    "for i,bkg in enumerate(bkg_list):\n",
    "#     ax1.step(xb[:-1] + np.diff(xb)/2, N_BG_1nm[i], label=bkg)\n",
    "    ax1.step(paleopy.calcBins(1.0)[:-1] + 1./2, N_BG_1nm[i], label=bkg)\n",
    "\n",
    "ax1.legend(fontsize=12)\n",
    "ax1.set_ylim(1e-6, 1e7)\n",
    "ax1.set_xlim(1, 1000)\n",
    "\n",
    "ax1.set_ylabel(r\"Number of events/bins\")\n",
    "ax1.set_xlabel(r\"$x_T$ [nm]\")\n",
    "\n",
    "#------------------\n",
    "\n",
    "ax2.set_xscale(\"log\")\n",
    "ax2.set_yscale(\"log\")\n",
    "\n",
    "for i,bkg in enumerate(bkg_list):\n",
    "    ax2.step(paleopy.calcBins(15.0)[:-1] + 15.0/2, N_BG_15nm[i], label=bkg)\n",
    "\n",
    "ax2.set_ylim(1e-6, 1e7)\n",
    "ax2.set_xlim(7.5, 10000)\n",
    "    \n",
    "ax2.set_xlabel(r\"$x_T$ [nm]\")\n",
    "    \n",
    "#ax2.legend()\n",
    "#ax2.legend(fontsize=12)\n",
    "\n",
    "#f.subplots_adjust(hspace=0.001)\n",
    "\n",
    "plt.show()"
   ]
  },
  {
   "cell_type": "markdown",
   "metadata": {},
   "source": [
    "#### Lets now make some Euclideanized signals\n",
    "\n",
    "The region we will consider is between the 95% CL and three orders of magnitude above that. This roughly corresponds to the current sensitivity of Xenon detectors."
   ]
  },
  {
   "cell_type": "code",
   "execution_count": null,
   "metadata": {},
   "outputs": [
    {
     "name": "stderr",
     "output_type": "stream",
     "text": [
      "Euclideanizing Sinj:   0%|          | 0/100 [00:00<?, ?it/s]"
     ]
    },
    {
     "name": "stdout",
     "output_type": "stream",
     "text": [
      "HDF file not found. Calculating ES from scratch...\n"
     ]
    },
    {
     "name": "stderr",
     "output_type": "stream",
     "text": [
      "/usr/local/lib/python3.6/site-packages/scipy/integrate/quadpack.py:385: IntegrationWarning: The maximum number of subdivisions (50) has been achieved.\n",
      "  If increasing the limit yields no improvement it is advised to analyze \n",
      "  the integrand in order to determine the difficulties.  If the position of a \n",
      "  local difficulty can be determined (singularity, discontinuity) one will \n",
      "  probably gain from splitting up the interval and calling the integrator \n",
      "  on the subranges.  Perhaps a special-purpose integrator should be used.\n",
      "  warnings.warn(msg, IntegrationWarning)\n"
     ]
    }
   ],
   "source": [
    "m_lim, Sinj_lim = np.loadtxt('../ES/limits/lims_Sinj_exp100.0_res15.0.txt', unpack=True, usecols=(0,1))\n",
    "lim = interp1d(m_lim, Sinj_lim, bounds_error=False, fill_value='extrapolate')\n",
    "\n",
    "mlist = np.logspace(np.log10(0.6),4,num=100)\n",
    "nsamples = 100\n",
    "ref_sig = 1e-46\n",
    "systematics = [1.0, 1.0, 1.0, 1.0, 1.0, 1.0, 1.0, 1.0, 1.0, 1.0, 1.0, 1e-2, 1e-2]\n",
    "\n",
    "forceRecalculate = False\n",
    "\n",
    "ESfile = '../ES/hdf5/Sinj_15nm.hdf5'\n",
    "\n",
    "if (forceRecalculate):\n",
    "    os.remove(ESfile)\n",
    "\n",
    "if not(os.path.isfile(ESfile)):\n",
    "    print (\"HDF file not found. Calculating ES from scratch...\")\n",
    "    \n",
    "    couplings = []\n",
    "    mass = []\n",
    "    ESSinj = []\n",
    "    NSinj = [] \n",
    "\n",
    "    for m in tqdm(mlist, desc=\"Euclideanizing Sinj\"):\n",
    "        coupling_temp = np.logspace(np.log10(lim(m)),np.log10(lim(m)*100), nsamples)\n",
    "        for c_temp in coupling_temp:\n",
    "            couplings.append(c_temp)\n",
    "            mass.append(m)\n",
    "        \n",
    "#             sig = gaussian_filter1d(dRdx(x_bins, c_temp, m, rock='Syl'),1)+1e-20\n",
    "#             SF = sf.Swordfish(dRdx_Sylnu, T=systematics, E=np.ones_like(dRdx_Sylnu[0])*10)\n",
    "            \n",
    "            SF = sf.Swordfish(N_BG_15nm, T=systematics, E=np.ones_like(N_BG_15nm[0])*100.)\n",
    "            sig = paleopy.GetSignal(Sinj, 15.0, m_DM=m, xsec=c_temp)\n",
    "#             print(np.shape(sig))\n",
    "            NSinj.append(sum(sig))\n",
    "            ES_temp = SF.euclideanizedsignal(sig)\n",
    "            ESSinj.append(ES_temp)\n",
    "\n",
    "    couplings = np.array(couplings)\n",
    "    mass = np.array(mass)\n",
    "    ESSinj = np.array(ESSinj)\n",
    "    NSinj = np.array(NSinj)\n",
    "\n",
    "    # Output to new hdf5\n",
    "    hf = h5py.File(ESfile, 'w')\n",
    "    hf.create_dataset('ESSinj', data=ESSinj)\n",
    "    hf.create_dataset('mass', data=mass)\n",
    "    hf.create_dataset('c', data=couplings)\n",
    "    hf.create_dataset('NSinj', data=NSinj)\n",
    "    hf.close()"
   ]
  },
  {
   "cell_type": "markdown",
   "metadata": {},
   "source": [
    "#### We can now try to assess how good at reconstruction Sinj is"
   ]
  },
  {
   "cell_type": "code",
   "execution_count": null,
   "metadata": {},
   "outputs": [],
   "source": [
    "root = h5py.File(ESfile)\n",
    "ESSinj = np.array(root['ESSinj'])\n",
    "sigmaSI = np.array(root['c'])\n",
    "mass = np.array(root['mass'])\n",
    "c = np.zeros([sigmaSI.shape[0], 2])\n",
    "N = np.array(root['NSinj'])\n",
    "c[:,0] = mass\n",
    "c[:,1] = sigmaSI\n",
    "print(c.shape,ESSinj.shape)"
   ]
  },
  {
   "cell_type": "code",
   "execution_count": null,
   "metadata": {},
   "outputs": [],
   "source": [
    "fig, ax = plt.subplots(figsize=(7,5))\n",
    "\n",
    "ax.set_xscale('log')\n",
    "ax.set_yscale('log')\n",
    "\n",
    "plt.scatter(mass, sigmaSI)\n",
    "\n",
    "plt.show()\n"
   ]
  },
  {
   "cell_type": "code",
   "execution_count": null,
   "metadata": {},
   "outputs": [],
   "source": [
    "shSinj = sf.SignalHandler(c, ESSinj,verbose=True)"
   ]
  },
  {
   "cell_type": "code",
   "execution_count": null,
   "metadata": {},
   "outputs": [],
   "source": [
    "i = 1000\n",
    "P0 = c[i,:]\n",
    "print(P0,N[i])\n",
    "pp, el_ind = shSinj.query_region(P0, sigma=1.0, d=1, return_indices = True)\n",
    "# print(N[el_ind])\n",
    "fig, ax = plt.subplots(figsize=(7,5))\n",
    "\n",
    "ax.set_xscale('log')\n",
    "ax.set_yscale('log')\n",
    "plt.scatter(pp[:,0], pp[:,1])\n",
    "plt.show()"
   ]
  },
  {
   "cell_type": "code",
   "execution_count": null,
   "metadata": {},
   "outputs": [],
   "source": [
    "# print(min(N[c[:,0] == 6.]))\n",
    "print(N.shape)\n",
    "# print(c[N.argmin(),0], N)"
   ]
  },
  {
   "cell_type": "markdown",
   "metadata": {},
   "source": [
    "Query 2-sigma regions around each point and check whether mass discrimination is possible..."
   ]
  },
  {
   "cell_type": "markdown",
   "metadata": {},
   "source": [
    "Analyse and plot the results"
   ]
  },
  {
   "cell_type": "code",
   "execution_count": null,
   "metadata": {},
   "outputs": [],
   "source": [
    "m_listSinj = []\n",
    "sigma_list_Sinj = []\n",
    "Z_15nm = []\n",
    "m15_contour = []\n",
    "sigma15_contour = []\n",
    "\n",
    "for i in tqdm(range(len(c[:,0]))):\n",
    "    P0 = c[i,:]\n",
    "    pp, el_ind = shSinj.query_region(P0, sigma=2.0, d=1, return_indices = True)\n",
    "    \n",
    "    if pp.size == 0.0:\n",
    "        Z_15nm.append(0.0)\n",
    "        continue\n",
    "        \n",
    "    m15_contour.append(c[i,0])\n",
    "    sigma15_contour.append(c[i,1])\n",
    "    m_err = abs(np.min(c[el_ind,0]) - np.max(c[el_ind,0]))/c[i,0]\n",
    "    Z_15nm.append(m_err)\n",
    "    \n",
    "    if np.max(pp[:,0]) == np.max(mass):\n",
    "        m_listSinj.append(c[i,0])\n",
    "        sigma_list_Sinj.append(c[i,1])\n",
    "#     else:\n",
    "#         m15_contour.append(c[i,0])\n",
    "#         sigma15_contour.append(c[i,1])\n",
    "#         m_err = abs(np.min(c[el_ind,0]) - np.max(c[el_ind,0]))/c[i,0]\n",
    "#         Z_15nm.append(m_err)"
   ]
  },
  {
   "cell_type": "code",
   "execution_count": null,
   "metadata": {},
   "outputs": [],
   "source": [
    "m15_contour = np.array(m15_contour)\n",
    "sigma15_contour = np.array(sigma15_contour)\n",
    "Z_15nm = np.array(Z_15nm)"
   ]
  },
  {
   "cell_type": "code",
   "execution_count": null,
   "metadata": {},
   "outputs": [],
   "source": [
    "rc('text', usetex=True)\n",
    "rc('font',**{'family':'sans-serif','sans-serif':['cmr']})\n",
    "rc('font',**{'family':'serif','serif':['cmr']})\n",
    "rc('font', size=16)\n",
    "plt.figure(figsize=(7,5))\n",
    "from scipy.stats import binned_statistic\n",
    "import matplotlib.colors as colors\n",
    "ax = plt.gca()\n",
    "\n",
    "ax.set_xscale('log')\n",
    "ax.set_yscale('log')\n",
    "\n",
    "plt.plot(m_lim, Sinj_lim, 'k', )\n",
    "plt.plot(m_lim, Sinj_lim*100, 'k')\n",
    "\n",
    "# plt.scatter(m15_contour, sigma15_contour)\n",
    "X = m15_contour.reshape(100,100)\n",
    "Y = sigma15_contour.reshape(100,100)\n",
    "Z = Z_15nm.reshape(100,100)\n",
    "# X, Y = np.meshgrid(m15_contour,sigma15_contour)\n",
    "# Y = np.meshgrid(m15_contour,sigma15_contour)\n",
    "# Z, A = np.meshgrid(Z_15nm,Z_15nm)\n",
    "# print(Z_15nm.shape,m15_contour.shape,sigma15_contour.shape)\n",
    "# print(X,Y,Z)\n",
    "# print(np.shape(X),Z.shape)\n",
    "print(Z.min(),Z.max())\n",
    "Z += 0.01\n",
    "Z = np.clip(Z, 0.,100.)\n",
    "# m15_contour.reshape()\n",
    "# print(m15_contour.shape)\n",
    "plt.contourf(X, Y, Z, levels=[0.01,0.1, 1.,10.,100.],\n",
    "                        norm = colors.LogNorm(Z.min(),Z.max()))\n",
    "\n",
    "################################################\n",
    "\n",
    "percentile = lambda x: np.percentile(x, 99.)\n",
    "line, bins, _ = binned_statistic(m_listSinj, sigma_list_Sinj,\n",
    "                                 percentile, bins=np.logspace(np.log10(6),4.,num=60))\n",
    "bin_c = bins[:-1] + np.diff(bins)\n",
    "temp = interp1d(m_lim, Sinj_lim)\n",
    "plt.fill_between(bin_c,line, temp(bin_c), linestyle='--', color='grey', alpha=1.0,\n",
    "                                     label=r'Cannot reconstruct mass')\n",
    "\n",
    "################################################\n",
    "\n",
    "\n",
    "# plt.colorbar(cax, ticks=[-1, 0, 1])\n",
    "# cbar.ax.set_yticklabels([r'$< -10^{-2}$', r'$10^{-1}$', r'$10^{0}$', r'$10^{1}$', r'$> 10^{2}$'])\n",
    "cbar = plt.colorbar()\n",
    "cbar.ax.set_yticklabels([r'$<-10^{-2}$', r'$10^{-1}$', r'$10^{0}$', r'$10^{1}$', r'$>10^{2}$'])\n",
    "\n",
    "plt.xlabel(r'WIMP mass $m_\\chi$ [GeV]')\n",
    "plt.ylabel(r'WIMP-nucleon cross section $\\sigma_n^{\\mathrm{SI}}$ [cm$^2$]')\n",
    "plt.xlim(np.log10(6),10000)\n",
    "plt.ylim(1e-48,1e-43)\n",
    "plt.title(r'Sinjarite')\n",
    "plt.legend()\n",
    "plt.tight_layout(pad=0.3)\n",
    "plt.savefig(\"../plots/mass_reconstruction_15nm.pdf\")\n",
    "plt.show()"
   ]
  },
  {
   "cell_type": "code",
   "execution_count": null,
   "metadata": {},
   "outputs": [],
   "source": [
    "# def plot_ellipse(ind, txt=None, x=False, colour=False):\n",
    "#     P0 = c[ind,:]\n",
    "#     pp2, el_ind2, d2 = shSinj.query_region(P0, sigma=3., d=2, return_distance = True)\n",
    "# #     print(len(el_ind2))\n",
    "# #     NOTE: Return points within 3 sigma in 2 dimensions to make contours smooth\n",
    "#     if len(el_ind2) < 20:\n",
    "#         return None\n",
    "#     if x:\n",
    "#         plt.annotate(txt, (np.log10(mass[ind]), np.log10(c[ind,1])))\n",
    "#         plt.plot(np.log10(mass[ind]), np.log10(c[ind,1]), 'x', color='k')\n",
    "#     elif colour:\n",
    "#         z = np.ones_like(mass[el_ind2])\n",
    "#         x = mass[el_ind2]\n",
    "#         y = c[el_ind2,1]\n",
    "# #         print(x,y,z)\n",
    "# #     NOTE: levels indicates the radius of the contour, 1.5152 is 95%CL in 2 dimensions\n",
    "#         plt.tricontour(np.log10(x), np.log10(y), d2, colors=['green', 'green'], levels=[0, 2.4859,])\n",
    "            \n",
    "# # levels=[0, 1.515, 2.4859,]        \n",
    "\n",
    "# fig, axs = plt.subplots(nrows=1, ncols=1, figsize=(5,4))        \n",
    "\n",
    "# b = shSinj.get_benchmarks2(sigma=2.4859)\n",
    "# for i in b:\n",
    "#     plot_ellipse(i, colour=True)\n",
    "    \n",
    "# plt.plot(np.log10(m_lim), np.log10(Sinj_lim), 'k', linestyle='--')\n",
    "# plt.plot(np.log10(m_lim), np.log10(Sinj_lim*100), 'k', linestyle='--')\n",
    "# plt.xlim(np.log10(6),np.log10(10000))\n",
    "# plt.ylim(-48,-43)\n",
    "# plt.savefig(\"../plots/mass_reconstruction_green_elipses.pdf\")\n",
    "# plt.plot()"
   ]
  },
  {
   "cell_type": "markdown",
   "metadata": {},
   "source": [
    "#### 1nm Case\n",
    "\n",
    "Now lets do it for the 1nm case"
   ]
  },
  {
   "cell_type": "code",
   "execution_count": null,
   "metadata": {},
   "outputs": [],
   "source": [
    "m_lim, Sinj_lim_1nm = np.loadtxt('../ES/limits/lims_Sinj_exp0.01_res1.0.txt', unpack=True, usecols=(0,1))\n",
    "lim = interp1d(m_lim, Sinj_lim_1nm, bounds_error=False, fill_value='extrapolate')\n",
    "\n",
    "mlist = np.logspace(np.log10(0.6),4,num=100)\n",
    "nsamples = 100\n",
    "ref_sig = 1e-46\n",
    "systematics = [1.0, 1.0, 1.0, 1.0, 1.0, 1.0, 1.0, 1.0, 1.0, 1.0, 1.0, 1e-2, 1e-2]\n",
    "\n",
    "forceRecalculate = True\n",
    "\n",
    "ESfile_1nm = '../ES/hdf5/Sinj_1nm.hdf5'\n",
    "\n",
    "if (forceRecalculate):\n",
    "    os.remove(ESfile_1nm)\n",
    "\n",
    "if not(os.path.isfile(ESfile_1nm)):\n",
    "    print (\"HDF file not found. Calculating ES from scratch...\")\n",
    "    \n",
    "    couplings = []\n",
    "    mass = []\n",
    "    ESSinj_1nm = []\n",
    "    NSinj = [] \n",
    "\n",
    "    for m in tqdm(mlist, desc=\"Euclideanizing Sinj\"):\n",
    "        coupling_temp = np.logspace(np.log10(lim(m)),np.log10(lim(m)*100), nsamples)\n",
    "        for c_temp in coupling_temp:\n",
    "            couplings.append(c_temp)\n",
    "            mass.append(m)\n",
    "            \n",
    "            SF1nm = sf.Swordfish(N_BG_1nm, T=systematics, E=np.ones_like(N_BG_1nm[0])*0.01)\n",
    "            sig = paleopy.GetSignal(Sinj, sigma=1.0, m_DM=m, xsec=c_temp)\n",
    "\n",
    "            NSinj.append(sum(sig))\n",
    "            ES_1nm = SF1nm.euclideanizedsignal(sig)\n",
    "            ESSinj_1nm.append(ES_1nm)\n",
    "\n",
    "    couplings = np.array(couplings)\n",
    "    mass = np.array(mass)\n",
    "    ESSinj_1nm = np.array(ESSinj_1nm)\n",
    "    NSinj = np.array(NSinj)\n",
    "\n",
    "    # Output to new hdf5\n",
    "    hf = h5py.File(ESfile_1nm, 'w')\n",
    "    hf.create_dataset('ESSinj', data=ESSinj_1nm)\n",
    "    hf.create_dataset('mass', data=mass)\n",
    "    hf.create_dataset('c', data=couplings)\n",
    "    hf.create_dataset('NSinj', data=NSinj)\n",
    "    hf.close()"
   ]
  },
  {
   "cell_type": "code",
   "execution_count": null,
   "metadata": {},
   "outputs": [],
   "source": [
    "ESfile_1nm = '../ES/hdf5/Sinj_1nm.hdf5'\n",
    "root_1nm = h5py.File(ESfile_1nm)\n",
    "ESSinj_1nm = np.array(root_1nm['ESSinj'])\n",
    "sigmaSI_1nm = np.array(root_1nm['c'])\n",
    "mass_1nm = np.array(root_1nm['mass'])\n",
    "c_1nm = np.zeros([sigmaSI_1nm.shape[0], 2])\n",
    "N_1nm = np.array(root_1nm['NSinj'])\n",
    "c_1nm[:,0] = mass_1nm\n",
    "c_1nm[:,1] = sigmaSI_1nm\n",
    "print(np.shape(c_1nm))"
   ]
  },
  {
   "cell_type": "code",
   "execution_count": null,
   "metadata": {},
   "outputs": [],
   "source": [
    "shSinj_1nm = sf.SignalHandler(c_1nm, ESSinj_1nm,verbose=True)"
   ]
  },
  {
   "cell_type": "code",
   "execution_count": null,
   "metadata": {},
   "outputs": [],
   "source": [
    "fig, ax = plt.subplots(figsize=(7,5))\n",
    "\n",
    "ax.set_xscale('log')\n",
    "ax.set_yscale('log')\n",
    "\n",
    "\n",
    "plt.plot(m_lim, Sinj_lim, 'k', )\n",
    "plt.plot(m_lim, Sinj_lim*100, 'k')\n",
    "plt.plot(m_lim, Sinj_lim_1nm, 'blue', )\n",
    "plt.plot(m_lim, Sinj_lim_1nm*100, 'blue')\n",
    "plt.scatter(mass_1nm, sigmaSI_1nm)\n",
    "\n",
    "plt.show()\n"
   ]
  },
  {
   "cell_type": "code",
   "execution_count": null,
   "metadata": {},
   "outputs": [],
   "source": [
    "i = 5500\n",
    "P0 = c_1nm[i,:]\n",
    "pp, el_ind = shSinj_1nm.query_region(P0, sigma=3.0, d=1, return_indices = True)\n",
    "# print(N[el_ind])\n",
    "fig, ax = plt.subplots(figsize=(7,5))\n",
    "\n",
    "ax.set_xscale('log')\n",
    "ax.set_yscale('log')\n",
    "plt.scatter(pp[:,0], pp[:,1])\n",
    "plt.show()"
   ]
  },
  {
   "cell_type": "code",
   "execution_count": null,
   "metadata": {},
   "outputs": [],
   "source": [
    "m_listSinj_1nm = []\n",
    "sigma_list_Sinj_1nm = []\n",
    "\n",
    "for i in tqdm(range(len(c_1nm[:,0]))):\n",
    "    P0 = c_1nm[i,:]\n",
    "    \n",
    "    if(P0[1] < 1e-35):\n",
    "        pp, el_ind = shSinj_1nm.query_region(P0, sigma=2.0, d=1, return_indices = True)\n",
    "        if pp.size == 0.0:\n",
    "            continue\n",
    "        if np.max(pp[:,0]) == np.max(mass_1nm):\n",
    "            m_listSinj_1nm.append(c_1nm[i,0])\n",
    "            sigma_list_Sinj_1nm.append(c_1nm[i,1])"
   ]
  },
  {
   "cell_type": "code",
   "execution_count": null,
   "metadata": {},
   "outputs": [],
   "source": [
    "rc('text', usetex=True)\n",
    "rc('font',**{'family':'sans-serif','sans-serif':['cmr']})\n",
    "rc('font',**{'family':'serif','serif':['cmr']})\n",
    "rc('font', size=16)\n",
    "plt.figure(figsize=(7,5))\n",
    "from scipy.stats import binned_statistic\n",
    "ax = plt.gca()\n",
    "\n",
    "ax.set_xscale('log')\n",
    "ax.set_yscale('log')\n",
    "\n",
    "plt.plot(m_lim, Sinj_lim_1nm, 'blue', )\n",
    "plt.plot(m_lim, Sinj_lim_1nm*100, 'blue')\n",
    "\n",
    "# plt.scatter(m_listSinj_1nm, sigma_list_Sinj_1nm)\n",
    "\n",
    "percentile = lambda x: np.percentile(x, 99.)\n",
    "line, bins, _ = binned_statistic(m_listSinj_1nm, sigma_list_Sinj_1nm,\n",
    "                                 percentile, bins=np.logspace(np.log10(6),4.,num=60))\n",
    "bin_c = bins[:-1] + np.diff(bins)\n",
    "\n",
    "# plt.plot(bin_c,line, 'k')\n",
    "temp = interp1d(m_lim, Sinj_lim_1nm)\n",
    "plt.fill_between(bin_c,line, temp(bin_c), linestyle='--', color='blue', alpha=0.5)\n",
    "plt.xlabel(r'WIMP mass $m_\\chi$ [GeV]')\n",
    "plt.ylabel(r'WIMP-nucleon cross section $\\sigma_n^{\\mathrm{SI}}$ [cm$^2$]')\n",
    "plt.xlim(np.log10(6),10000)\n",
    "plt.ylim(1e-48,1e-43)\n",
    "plt.tight_layout(pad=0.3)\n",
    "plt.savefig(\"../plots/mass_reconstruction1nm.pdf\")\n",
    "plt.show()"
   ]
  },
  {
   "cell_type": "code",
   "execution_count": null,
   "metadata": {},
   "outputs": [],
   "source": [
    "rc('text', usetex=True)\n",
    "rc('font',**{'family':'sans-serif','sans-serif':['cmr']})\n",
    "rc('font',**{'family':'serif','serif':['cmr']})\n",
    "rc('font', size=16)\n",
    "plt.figure(figsize=(7,5))\n",
    "from scipy.stats import binned_statistic\n",
    "ax = plt.gca()\n",
    "\n",
    "ax.set_xscale('log')\n",
    "ax.set_yscale('log')\n",
    "\n",
    "##################################### Plotting current constraints\n",
    "\n",
    "m_curr, sig_curr = np.loadtxt(\"../Data/CurrentLimits.txt\", unpack=True)\n",
    "plt.fill_between(m_curr, sig_curr, 1e-35, linestyle='--', color='grey', alpha=0.3, label=r'Current limits')\n",
    "\n",
    "##################################### Plotting 15nm\n",
    "\n",
    "plt.plot(m_lim, Sinj_lim, color='C0', )\n",
    "plt.plot(m_lim, Sinj_lim*100, color='C0', linestyle = '--')\n",
    "\n",
    "# plt.scatter(m_listSinj, sigma_list_Sinj)\n",
    "\n",
    "percentile = lambda x: np.percentile(x, 99.)\n",
    "line, bins, _ = binned_statistic(m_listSinj, sigma_list_Sinj,\n",
    "                                 percentile, bins=np.logspace(np.log10(6),4.,num=60))\n",
    "bin_c = bins[:-1] + np.diff(bins)\n",
    "\n",
    "# plt.plot(bin_c,line, 'k')\n",
    "temp = interp1d(m_lim, Sinj_lim)\n",
    "plt.fill_between(bin_c,line, temp(bin_c), linestyle='--', color='C0', alpha=0.5,\n",
    "                                     label=r'$\\sigma_{x_T} = 15\\,\\mathrm{nm}; \\,\\,\\epsilon = 100 \\,\\mathrm{kg}\\,\\mathrm{Myr}$')\n",
    "\n",
    "##################################### Plotting 1nm\n",
    "\n",
    "plt.plot(m_lim, Sinj_lim_1nm, color='C1' )\n",
    "plt.plot(m_lim, Sinj_lim_1nm*100, color='C1', linestyle = '--')\n",
    "\n",
    "percentile = lambda x: np.percentile(x, 99.)\n",
    "line, bins, _ = binned_statistic(m_listSinj_1nm, sigma_list_Sinj_1nm,\n",
    "                                 percentile, bins=np.logspace(np.log10(6),4.,num=60))\n",
    "bin_c = bins[:-1] + np.diff(bins)\n",
    "\n",
    "# plt.plot(bin_c,line, 'k')\n",
    "temp = interp1d(m_lim, Sinj_lim_1nm)\n",
    "plt.fill_between(bin_c,line, temp(bin_c), linestyle='--', color='C1', alpha=0.5,\n",
    "                                    label=r'$\\sigma_{x_T} = 1\\,\\mathrm{nm}; \\,\\,\\epsilon = 0.01 \\,\\mathrm{kg}\\,\\mathrm{Myr}$')\n",
    "plt.xlabel(r'WIMP mass $m_\\chi$ [GeV]')\n",
    "plt.ylabel(r'WIMP-nucleon cross section $\\sigma_n^{\\mathrm{SI}}$ [cm$^2$]')\n",
    "plt.text(9e3, 1.3e-48, r'Mass cannot be reconstructed in coloured shaded regions', fontsize=16, ha='right')\n",
    "\n",
    "plt.xlim(0.6,10000)\n",
    "plt.ylim(1e-48,1e-43)\n",
    "plt.title(r'Sinjarite - $\\mathrm{CaCl_2}$$\\cdot$2($\\mathrm{H_2O}$)')\n",
    "plt.legend()\n",
    "plt.tight_layout(pad=0.3)\n",
    "plt.savefig(\"../plots/mass_reconstruction.pdf\")\n",
    "plt.show()"
   ]
  },
  {
   "cell_type": "code",
   "execution_count": null,
   "metadata": {},
   "outputs": [],
   "source": []
  },
  {
   "cell_type": "code",
   "execution_count": null,
   "metadata": {},
   "outputs": [],
   "source": []
  }
 ],
 "metadata": {
  "kernelspec": {
   "display_name": "Python 3",
   "language": "python",
   "name": "python3"
  },
  "language_info": {
   "codemirror_mode": {
    "name": "ipython",
    "version": 3
   },
   "file_extension": ".py",
   "mimetype": "text/x-python",
   "name": "python",
   "nbconvert_exporter": "python",
   "pygments_lexer": "ipython3",
   "version": "3.6.5"
  }
 },
 "nbformat": 4,
 "nbformat_minor": 2
}
