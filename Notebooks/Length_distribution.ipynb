{
 "cells": [
  {
   "cell_type": "code",
   "execution_count": 2,
   "metadata": {},
   "outputs": [],
   "source": [
    "import numpy as np\n",
    "import matplotlib.pyplot as plt\n",
    "from matplotlib import rc\n",
    "from tqdm import tqdm\n",
    "import swordfish as sf\n",
    "from WIMpy import DMUtils as DMU\n",
    "\n",
    "rc('text', usetex=True)\n",
    "rc('font',**{'family':'sans-serif','sans-serif':['cmr']})\n",
    "rc('font',**{'family':'serif','serif':['cmr']})\n",
    "%matplotlib inline"
   ]
  },
  {
   "cell_type": "code",
   "execution_count": 33,
   "metadata": {},
   "outputs": [],
   "source": [
    "E_list = np.linspace(0, 100, 1000)\n",
    "m_x = 500.0 #GeV\n",
    "\n",
    "def calcdRdE(ER_keV, m_x, cp, cn, **kwargs):\n",
    "    #Load in the list of nuclear spins, atomic masses and mass fractions\n",
    "    nuclei_Xe = [\"Xe128\", \"Xe129\", \"Xe130\", \"Xe131\", \"Xe132\", \"Xe134\", \"Xe136\"]\n",
    "    nuclei_list = np.loadtxt(\"Nuclei.txt\", usecols=(0,), dtype=\"str\")\n",
    "    frac_list = np.loadtxt(\"Nuclei.txt\", usecols=(3,))\n",
    "    frac_vals = dict(zip(nuclei_list, frac_list))\n",
    "\n",
    "    dRdE = np.zeros_like(ER_keV)\n",
    "    for nuc in nuclei_Xe:\n",
    "        dRdE += frac_vals[nuc]*DMU.dRdE_NREFT(ER_keV, m_x, cp, cn, nuc, **kwargs)\n",
    "    return dRdE"
   ]
  },
  {
   "cell_type": "code",
   "execution_count": 44,
   "metadata": {},
   "outputs": [
    {
     "name": "stderr",
     "output_type": "stream",
     "text": [
      "/usr/local/lib/python3.6/site-packages/matplotlib/font_manager.py:1328: UserWarning: findfont: Font family ['serif'] not found. Falling back to DejaVu Sans\n",
      "  (prop.get_family(), self.defaultFamily[fontext]))\n"
     ]
    },
    {
     "data": {
      "image/png": "[encoded data removed]",
      "text/plain": [
       "<Figure size 432x288 with 1 Axes>"
      ]
     },
     "metadata": {},
     "output_type": "display_data"
    }
   ],
   "source": [
    "cp = np.zeros(11)\n",
    "cp[0] = 1e-6\n",
    "cn = cp\n",
    "\n",
    "dRdE = calcdRdE(E_list, 10, cp, cn)\n",
    "plt.plot(E_list, dRdE)\n",
    "plt.show()"
   ]
  },
  {
   "cell_type": "code",
   "execution_count": null,
   "metadata": {},
   "outputs": [],
   "source": []
  }
 ],
 "metadata": {
  "kernelspec": {
   "display_name": "Python 3",
   "language": "python",
   "name": "python3"
  },
  "language_info": {
   "codemirror_mode": {
    "name": "ipython",
    "version": 3
   },
   "file_extension": ".py",
   "mimetype": "text/x-python",
   "name": "python",
   "nbconvert_exporter": "python",
   "pygments_lexer": "ipython3",
   "version": "3.6.5"
  }
 },
 "nbformat": 4,
 "nbformat_minor": 2
}
