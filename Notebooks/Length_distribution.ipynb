{
 "cells": [
  {
   "cell_type": "markdown",
   "metadata": {},
   "source": [
    "# Calculating the rate as a function of track length"
   ]
  },
  {
   "cell_type": "code",
   "execution_count": 1,
   "metadata": {},
   "outputs": [],
   "source": [
    "import numpy as np\n",
    "import matplotlib.pyplot as plt\n",
    "from matplotlib import rc\n",
    "from tqdm import tqdm\n",
    "import swordfish as sf\n",
    "from WIMpy import DMUtils as DMU\n",
    "\n",
    "rc('text', usetex=True)\n",
    "rc('font',**{'family':'sans-serif','sans-serif':['cmr']})\n",
    "rc('font',**{'family':'serif','serif':['cmr']})\n",
    "%matplotlib inline"
   ]
  },
  {
   "cell_type": "markdown",
   "metadata": {},
   "source": [
    "To try match 1806.05991 we are going to consider the Halite material (since this is what they present). Halite is made of NaCl but we dont know the Cl form factor now so we use Na23 as a starting point."
   ]
  },
  {
   "cell_type": "code",
   "execution_count": 6,
   "metadata": {},
   "outputs": [],
   "source": [
    "E_list = np.linspace(0, 100, 1000)\n",
    "m_x = 500.0 #GeV\n",
    "\n",
    "def calcdRdE(ER_keV, m_x, cp, cn, **kwargs):\n",
    "    #Load in the list of nuclear spins, atomic masses and mass fractions\n",
    "    nuclei_Halite = [\"Na23\"]\n",
    "    frac_list_Halite = [1.0]\n",
    "    frac_vals = dict(zip(nuclei_Halite, frac_list_Halite))\n",
    "\n",
    "    dRdE = np.zeros_like(ER_keV)\n",
    "    for nuc in nuclei_Halite:\n",
    "        dRdE += frac_vals[nuc]*DMU.dRdE_NREFT(ER_keV, m_x, cp, cn, nuc, **kwargs)\n",
    "    return dRdE"
   ]
  },
  {
   "cell_type": "code",
   "execution_count": 7,
   "metadata": {},
   "outputs": [
    {
     "name": "stderr",
     "output_type": "stream",
     "text": [
      "/usr/local/lib/python3.6/site-packages/matplotlib/font_manager.py:1328: UserWarning: findfont: Font family ['serif'] not found. Falling back to DejaVu Sans\n",
      "  (prop.get_family(), self.defaultFamily[fontext]))\n"
     ]
    },
    {
     "data": {
      "image/png": "[encoded data removed]",
      "text/plain": [
       "<Figure size 432x288 with 1 Axes>"
      ]
     },
     "metadata": {},
     "output_type": "display_data"
    }
   ],
   "source": [
    "cp = np.zeros(11)\n",
    "cp[0] = 1e-6\n",
    "cn = cp\n",
    "\n",
    "dRdE = calcdRdE(E_list, 10, cp, cn)\n",
    "plt.plot(E_list, dRdE)\n",
    "plt.show()"
   ]
  },
  {
   "cell_type": "markdown",
   "metadata": {},
   "source": [
    "We have the recoil rate, as a function of recoil energy but the observable is actually the recoils as a function of track length. The translation is done using \n",
    "\n",
    "$$ x_t(E_R) = \\int_0^{E_R} dE \\left(\\frac{dE}{dx_t}(E)\\right)^{-1}$$\n",
    "\n",
    "where $\\frac{dE}{dx_t}$ is given by [this paper](https://journals.aps.org/prb/pdf/10.1103/PhysRevB.15.2458),\n",
    "\n",
    "$$ \\frac{dE}{dx_t} = N \\int_0^{T_m} T \\sigma(T) dT$$\n",
    "\n",
    "where $T_m = \\gamma E$, $\\gamma=\\frac{4m_{\\chi}M_2}{(m_{\\chi}+M_2)^2}$, $\\sigma(T) = \\sigma(\\theta)\\frac{4 \\pi}{\\gamma E}$, $N$ is the atomic density of the target, $m_{\\chi}$ is the dark matter mass, and $M_2$ is the mass of the target nuclei i.e. 23 GeV for Na23. $T = \\gamma E\\sin^2(\\theta/2) $ and, finally, \n",
    "\n",
    "$$\\theta = \\pi - 2\\int^\\inf_{r_0} \\frac{p dr}{r^2\\left[1-V(r)/E_c-p^2/r^2\\right]^{1/2}}$$\n",
    "\n",
    "We also need $\\sigma(\\theta) = \\frac{-p}{\\sin\\theta}\\frac{dp}{d\\theta}$, $E_c=\\frac{E M_2}{(m_{\\chi}+M_2)}$, $r_0$ is given by the root of $1-V(r)/E_c-p^2/r^2$"
   ]
  },
  {
   "cell_type": "code",
   "execution_count": null,
   "metadata": {},
   "outputs": [],
   "source": [
    "from scipy.integrate import quad\n",
    "M_Ca = 23\n",
    "\n",
    "def sigma(T):\n",
    "    gamma = 4.*m_chi*M_Ca/((m_chi+M_Ca)**2.)\n",
    "    V = lambda r: #SOME POTENTIAL\n",
    "    inte_theta = lambda r: p/r**2/((1-(V(r)/E_c)-(p**2/r**2))**0.5)\n",
    "    theta = np.pi - 2*quad(inte_theta,r_0,np.inf)\n",
    "    E = T/gamma/(np.sin(theta/2)**2.)\n",
    "    sigma_theta = (-p/sin(theta)) #*dp/dtheta\n",
    "    return 4.*np.pi*sigma_theta/gamma/E\n",
    "\n",
    "def calc_dEdx(E, m_chi,nuc_mass):\n",
    "    N = 0.97 # g cm^-3\n",
    "    gamma = 4.*m_chi*M_Ca/((m_chi+M_Ca)**2.)\n",
    "    Tm = gamma*E\n",
    "    inte = lambda T: T*sigma(T)\n",
    "    return N*quad(inte, 0, Tm)"
   ]
  }
 ],
 "metadata": {
  "kernelspec": {
   "display_name": "Python 3",
   "language": "python",
   "name": "python3"
  },
  "language_info": {
   "codemirror_mode": {
    "name": "ipython",
    "version": 3
   },
   "file_extension": ".py",
   "mimetype": "text/x-python",
   "name": "python",
   "nbconvert_exporter": "python",
   "pygments_lexer": "ipython3",
   "version": "3.6.5"
  }
 },
 "nbformat": 4,
 "nbformat_minor": 2
}
