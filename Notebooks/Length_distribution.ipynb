{
 "cells": [
  {
   "cell_type": "markdown",
   "metadata": {},
   "source": [
    "# Calculating the rate as a function of track length"
   ]
  },
  {
   "cell_type": "code",
   "execution_count": 1,
   "metadata": {},
   "outputs": [],
   "source": [
    "import numpy as np\n",
    "import matplotlib.pyplot as plt\n",
    "from matplotlib import rc\n",
    "from tqdm import tqdm\n",
    "import swordfish as sf\n",
    "from WIMpy import DMUtils as DMU\n",
    "\n",
    "# rc('text', usetex=True)\n",
    "# rc('font',**{'family':'sans-serif','sans-serif':['cmr']})\n",
    "# rc('font',**{'family':'serif','serif':['cmr']})\n",
    "%matplotlib inline"
   ]
  },
  {
   "cell_type": "markdown",
   "metadata": {},
   "source": [
    "To try match 1806.05991 we are going to consider the Halite material (since this is what they present). Halite is made of NaCl but we dont know the Cl form factor now so we use Na23 as a starting point."
   ]
  },
  {
   "cell_type": "code",
   "execution_count": 9,
   "metadata": {},
   "outputs": [],
   "source": [
    "E_list = np.logspace(0, 3, 10) # keV\n",
    "# m_x = 500.0 #GeV\n",
    "\n",
    "def calcdRdE(ER_keV, m_x, cp, cn, **kwargs):\n",
    "    #Load in the list of nuclear spins, atomic masses and mass fractions\n",
    "    nuclei_Halite = [\"Na23\"]\n",
    "    frac_list_Halite = [1.0]\n",
    "    frac_vals = dict(zip(nuclei_Halite, frac_list_Halite))\n",
    "\n",
    "    dRdE = np.zeros_like(ER_keV)\n",
    "    for nuc in nuclei_Halite:\n",
    "        dRdE += frac_vals[nuc]*DMU.dRdE_NREFT(ER_keV, m_x, cp, cn, nuc, **kwargs)\n",
    "    return dRdE"
   ]
  },
  {
   "cell_type": "code",
   "execution_count": 3,
   "metadata": {},
   "outputs": [
    {
     "data": {
      "image/png": "[encoded data removed]",
      "text/plain": [
       "<Figure size 432x288 with 1 Axes>"
      ]
     },
     "metadata": {},
     "output_type": "display_data"
    }
   ],
   "source": [
    "cp = np.zeros(11)\n",
    "cp[0] = 1e-6\n",
    "cn = cp\n",
    "\n",
    "dRdE = calcdRdE(E_list, 10, cp, cn)\n",
    "plt.plot(E_list, dRdE)\n",
    "plt.show()"
   ]
  },
  {
   "cell_type": "markdown",
   "metadata": {},
   "source": [
    "We have the recoil rate, as a function of recoil energy but the observable is actually the recoils as a function of track length. The translation is done using \n",
    "\n",
    "$$ x_t(E_R) = \\int_0^{E_R} dE \\left(\\frac{dE}{dx_t}(E)\\right)^{-1}$$\n",
    "\n",
    "where $\\frac{dE}{dx_t}$ is given by [this paper](https://journals.aps.org/prb/pdf/10.1103/PhysRevB.15.2458),\n",
    "\n",
    "$$ \\frac{dE}{dx_t} = N \\int_0^{T_m} T \\sigma(T) dT$$\n",
    "\n",
    "where $T_m = \\gamma E$, $\\gamma=\\frac{4 M_1 M_2}{(M_1+M_2)^2}$, $\\sigma(T) = \\sigma(\\theta)\\frac{4 \\pi}{\\gamma E}$, $N$ is the atomic density of the target, $M_1$ is the mass of the stopping nuclei, and $M_2$ is the mass of the target nuclei i.e. 23 GeV for Na23. $T = \\gamma E\\sin^2(\\theta/2) $ and, finally, \n",
    "\n",
    "$$\\theta = \\pi - 2\\int^\\inf_{r_0} \\frac{p dr}{r^2\\left[1-V(r)/E_c-p^2/r^2\\right]^{1/2}}$$\n",
    "\n",
    "We also need $\\sigma(\\theta) = \\frac{-p}{\\sin\\theta}\\frac{dp}{d\\theta}$, $E_c=\\frac{E M_1}{(M_1+M_2)}$, $r_0$ is given by the root of $1-V(r)/E_c-p^2/r^2$. I'll start by considering a sodium nucleus being stopped in the potential of another sodium nucleus"
   ]
  },
  {
   "cell_type": "code",
   "execution_count": 42,
   "metadata": {},
   "outputs": [],
   "source": [
    "from scipy.integrate import quad\n",
    "from scipy import optimize\n",
    "# p is the impact parameter in nanometres\n",
    "M_Na = 23.*1.e6 # keV\n",
    "m_DM = 100.*1.e6 # keV\n",
    "ZNa = 11\n",
    "e = 0.303\n",
    "A = 0.001 # Ad hoc for now, screening length\n",
    "INVnm_to_keV = 0.197326979 # change inverse nanometres to keV (1 nm^-1 * hbar * c to keV)\n",
    "V = lambda r: (ZNa**2.*e**2./r)*np.exp(-r/10.)*INVnm_to_keV # Add conversion factor to get V in keV\n",
    "\n",
    "def calc_theta(p, E):\n",
    "    Ec = M_Na*E/(2*M_Na)\n",
    "    root = lambda r: 1-V(r)/Ec-p**2/r**2\n",
    "    r0temp = optimize.brentq(root, 0.001, 100000)\n",
    "    r0 = r0temp + 0.01*r0temp # for the numerics of the integral this needs to be slightly higher than the root\n",
    "    \n",
    "    integrand = lambda r: p/r**2./(1-V(r)/Ec-p**2/r**2)**0.5\n",
    "    I = quad(integrand,r0,np.inf)[0]\n",
    "    return np.pi - 2.*I\n",
    "\n",
    "def calc_dpdtheta(p, E):\n",
    "    Ec = M_Na*E/(2*M_Na)\n",
    "    root = lambda r: 1-V(r)/Ec-p**2/r**2\n",
    "    r0temp = optimize.brentq(root, 0.001, 100000)\n",
    "    r0 = r0temp + 0.01*r0temp # for the numerics of the integral this needs to be slightly higher than the root\n",
    "    \n",
    "    dp = np.array([p-p*0.01,p,p+p*0.01])\n",
    "    pdiv = np.zeros_like(dp)\n",
    "    for i, ptemp in enumerate(dp):\n",
    "        integrand = lambda r: ptemp/r**2./(1-V(r)/Ec-ptemp**2/r**2)**0.5\n",
    "        pdiv[i] = -2*quad(integrand,r0,np.inf)[0]\n",
    "    \n",
    "    dpdtheta = np.gradient(pdiv)[1]\n",
    "    return 1./dpdtheta\n",
    "\n",
    "def calc_sigmaT(T, E, p):\n",
    "    gamma = 4.*M_Na**2./((2*M_Na)**2.)\n",
    "    theta = calc_theta(p, E)\n",
    "    sigma_theta = -p*calc_dpdtheta(p, E)/np.sin(theta)\n",
    "    return 4.*np.pi*sigma_theta/gamma/E\n",
    "\n",
    "def calc_dEdx(E, p):\n",
    "    N = 25.40902838311586 # N nm^-3\n",
    "    gamma = 4.*M_Na**2./((2.*M_Na)**2.)\n",
    "    Tm = gamma*E\n",
    "    inte = lambda T: T*calc_sigmaT(T, E, p)\n",
    "    return N*quad(inte, 0., Tm)[0]"
   ]
  },
  {
   "cell_type": "code",
   "execution_count": 44,
   "metadata": {},
   "outputs": [
    {
     "name": "stdout",
     "output_type": "stream",
     "text": [
      "0\n",
      "1\n",
      "2\n",
      "3\n",
      "4\n",
      "5\n",
      "6\n",
      "7\n",
      "8\n",
      "9\n",
      "10\n",
      "11\n",
      "12\n",
      "13\n",
      "14\n",
      "15\n",
      "16\n",
      "17\n",
      "18\n",
      "19\n"
     ]
    }
   ],
   "source": [
    "cp = np.zeros(11)\n",
    "cp[0] = 1e-6\n",
    "cn = cp\n",
    "m_dm = 500e6 # keV i.e. 10 GeV\n",
    "p = 1/(25.**(1./3.)-1) # Impact parameter in nm\n",
    "\n",
    "################ Calculting the rate\n",
    "dRdE = calcdRdE(E_list, m_dm, cp, cn)\n",
    "dEdx = np.zeros_like(E_list)\n",
    "for i,E in enumerate(E_list):\n",
    "    dEdx[i] = calc_dEdx(E, p)\n",
    "\n",
    "dRdx = dRdE*dEdx\n",
    "\n",
    "################ Calculting the track lengths\n",
    "xlist = np.zeros_like(E_list)\n",
    "temp = lambda E: calc_dEdx(E, p)**-1\n",
    "for i,E in enumerate(E_list):\n",
    "    print(i)\n",
    "    xlist[i] = quad(temp,0,E)[0]"
   ]
  },
  {
   "cell_type": "code",
   "execution_count": 45,
   "metadata": {},
   "outputs": [
    {
     "name": "stdout",
     "output_type": "stream",
     "text": [
      "[2.38834295e-05 5.04470441e-05 1.14335230e-04 2.58430375e-04\n",
      " 5.22920905e-04 8.92304051e-04 1.30552476e-03 1.71338776e-03\n",
      " 2.09705027e-03 2.45611949e-03 2.79657049e-03 3.12514262e-03\n",
      " 3.44657250e-03 3.76439422e-03 4.08090900e-03 4.39739027e-03\n",
      " 4.71421822e-03 5.03189029e-03 5.35033804e-03 5.66982901e-03] [1.00000000e+00 1.62377674e+00 2.63665090e+00 4.28133240e+00\n",
      " 6.95192796e+00 1.12883789e+01 1.83298071e+01 2.97635144e+01\n",
      " 4.83293024e+01 7.84759970e+01 1.27427499e+02 2.06913808e+02\n",
      " 3.35981829e+02 5.45559478e+02 8.85866790e+02 1.43844989e+03\n",
      " 2.33572147e+03 3.79269019e+03 6.15848211e+03 1.00000000e+04]\n"
     ]
    }
   ],
   "source": [
    "print(xlist, E_list)"
   ]
  },
  {
   "cell_type": "code",
   "execution_count": 47,
   "metadata": {},
   "outputs": [
    {
     "data": {
      "image/png": "[encoded data removed]",
      "text/plain": [
       "<Figure size 432x288 with 1 Axes>"
      ]
     },
     "metadata": {},
     "output_type": "display_data"
    },
    {
     "data": {
      "image/png": "[encoded data removed]",
      "text/plain": [
       "<Figure size 432x288 with 1 Axes>"
      ]
     },
     "metadata": {},
     "output_type": "display_data"
    }
   ],
   "source": [
    "plt.loglog(E_list, xlist)\n",
    "plt.show()\n",
    "plt.loglog(E_list, dEdx**-1)\n",
    "plt.show()"
   ]
  },
  {
   "cell_type": "code",
   "execution_count": 52,
   "metadata": {},
   "outputs": [
    {
     "data": {
      "image/png": "[encoded data removed]",
      "text/plain": [
       "<Figure size 432x288 with 1 Axes>"
      ]
     },
     "metadata": {},
     "output_type": "display_data"
    }
   ],
   "source": [
    "dRdx = dRdE*(dEdx**-1)\n",
    "plt.loglog(xlist*1e6, dRdx*1e6)\n",
    "plt.ylabel(r\"dRdx [nm−1 kg−1 Myr−1]\")\n",
    "plt.xlabel(r\"x [nm]\")\n",
    "plt.show()"
   ]
  },
  {
   "cell_type": "code",
   "execution_count": null,
   "metadata": {},
   "outputs": [],
   "source": []
  }
 ],
 "metadata": {
  "kernelspec": {
   "display_name": "Python 3",
   "language": "python",
   "name": "python3"
  },
  "language_info": {
   "codemirror_mode": {
    "name": "ipython",
    "version": 3
   },
   "file_extension": ".py",
   "mimetype": "text/x-python",
   "name": "python",
   "nbconvert_exporter": "python",
   "pygments_lexer": "ipython3",
   "version": "3.6.5"
  }
 },
 "nbformat": 4,
 "nbformat_minor": 2
}
