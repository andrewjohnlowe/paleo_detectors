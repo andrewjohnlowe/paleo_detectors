{
 "cells": [
  {
   "cell_type": "markdown",
   "metadata": {},
   "source": [
    "# Spectral Analysis for Zabuyelite"
   ]
  },
  {
   "cell_type": "code",
   "execution_count": 1,
   "metadata": {},
   "outputs": [],
   "source": [
    "import numpy as np\n",
    "import matplotlib.pyplot as plt\n",
    "from matplotlib import rc\n",
    "from tqdm import tqdm\n",
    "import swordfish as sf\n",
    "from WIMpy import DMUtils as DMU\n",
    "\n",
    "# rc('text', usetex=True)\n",
    "# rc('font',**{'family':'sans-serif','sans-serif':['cmr']})\n",
    "# rc('font',**{'family':'serif','serif':['cmr']})\n",
    "%matplotlib inline"
   ]
  },
  {
   "cell_type": "code",
   "execution_count": 4,
   "metadata": {},
   "outputs": [
    {
     "data": {
      "image/png": "[encoded data removed]",
      "text/plain": [
       "<Figure size 432x288 with 1 Axes>"
      ]
     },
     "metadata": {},
     "output_type": "display_data"
    }
   ],
   "source": [
    "# Zabuyelite is Li2CO3 therefore we need to some over several elements to get the signal\n",
    "\n",
    "def dRdE_Zab(E, sigma, m):\n",
    "    # E in keV\n",
    "    # sigma in cm^2\n",
    "    # mass in GeV\n",
    "    # Here we give the number of protons and neutrons in lithium, carbon, and oxygen\n",
    "    # in that order\n",
    "    Zab_abun = np.array([0.189,0.162,0.649])\n",
    "    Zab_p = np.array([3,6,8])\n",
    "    Zab_n = np.array([4,6,8])\n",
    "    dRdE = np.zeros_like(E)\n",
    "    for i, ratio in enumerate(Zab_abun):\n",
    "        dRdE += DMU.dRdE_standard(E, Zab_p[i], Zab_n[i], m, sigma)\n",
    "    return dRdE\n",
    "\n",
    "E_list = np.logspace(-1, 3, 30) # keV\n",
    "dRdE = dRdE_Zab(E_list, 1e-45, 10)\n",
    "plt.loglog(E_list,dRdE)\n",
    "plt.ylabel(\"dRdE [1/keV/kg/yr]\")\n",
    "plt.xlabel(\"E [keV]\")\n",
    "plt.show()"
   ]
  },
  {
   "cell_type": "markdown",
   "metadata": {},
   "source": [
    "Now we need to know the spectra as a function of track length, I'll use the SRIM code and load in the tables"
   ]
  },
  {
   "cell_type": "code",
   "execution_count": null,
   "metadata": {},
   "outputs": [],
   "source": []
  }
 ],
 "metadata": {
  "kernelspec": {
   "display_name": "Python 3",
   "language": "python",
   "name": "python3"
  },
  "language_info": {
   "codemirror_mode": {
    "name": "ipython",
    "version": 3
   },
   "file_extension": ".py",
   "mimetype": "text/x-python",
   "name": "python",
   "nbconvert_exporter": "python",
   "pygments_lexer": "ipython3",
   "version": "3.6.5"
  }
 },
 "nbformat": 4,
 "nbformat_minor": 2
}
