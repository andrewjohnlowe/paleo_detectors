{
 "cells": [
  {
   "cell_type": "markdown",
   "metadata": {},
   "source": [
    "# Systematics Check\n",
    "\n",
    "The purpose here is to check, for one mineral whether having a greater about of flexibility in the background will produce a dramatic decrease in the sensitivity"
   ]
  },
  {
   "cell_type": "code",
   "execution_count": 1,
   "metadata": {},
   "outputs": [],
   "source": [
    "import numpy as np\n",
    "import matplotlib.pyplot as plt\n",
    "from matplotlib import rc\n",
    "import matplotlib as mpl\n",
    "from tqdm import tqdm\n",
    "import swordfish as sf\n",
    "from WIMpy import DMUtils as DMU\n",
    "from scipy.interpolate import interp1d\n",
    "from scipy.integrate import cumtrapz, quad\n",
    "from scipy.special import erf\n",
    "from paleo.paleopy_classes import *\n",
    "import paleo.paleopy as paleopy\n",
    "\n",
    "rc('text', usetex=True)\n",
    "rc('font',**{'family':'sans-serif','sans-serif':['cmr']})\n",
    "rc('font',**{'family':'serif','serif':['cmr']})\n",
    "rc('font', size=16)\n",
    "#mpl.rcParams.update({'font.size': 16,'font.family':'serif'})\n",
    "\n",
    "mpl.rcParams['xtick.top'] = True\n",
    "mpl.rcParams['ytick.right'] = True\n",
    "\n",
    "#%matplotlib inline"
   ]
  },
  {
   "cell_type": "code",
   "execution_count": 2,
   "metadata": {},
   "outputs": [],
   "source": [
    "Sinj = Mineral(\"Sinjarite\")"
   ]
  },
  {
   "cell_type": "code",
   "execution_count": 3,
   "metadata": {},
   "outputs": [
    {
     "name": "stdout",
     "output_type": "stream",
     "text": [
      " DMutils.py: Loading neutrino flux for the first time...\n",
      "Loading neutrino fluxes for...\n",
      "    DSNB\n",
      "    atm\n",
      "    hep\n",
      "    8B\n",
      "    15O\n",
      "    17F\n",
      "    pep\n",
      "    13N\n",
      "    pp\n",
      "    7Be-384\n",
      "    7Be-861\n",
      "...done.\n"
     ]
    },
    {
     "name": "stderr",
     "output_type": "stream",
     "text": [
      "/usr/local/lib/python3.6/site-packages/scipy/integrate/quadpack.py:385: IntegrationWarning: The maximum number of subdivisions (50) has been achieved.\n",
      "  If increasing the limit yields no improvement it is advised to analyze \n",
      "  the integrand in order to determine the difficulties.  If the position of a \n",
      "  local difficulty can be determined (singularity, discontinuity) one will \n",
      "  probably gain from splitting up the interval and calling the integrator \n",
      "  on the subranges.  Perhaps a special-purpose integrator should be used.\n",
      "  warnings.warn(msg, IntegrationWarning)\n"
     ]
    }
   ],
   "source": [
    "dRdx_BG = paleopy.GetBackground(Sinj, 15)"
   ]
  },
  {
   "cell_type": "code",
   "execution_count": 4,
   "metadata": {},
   "outputs": [
    {
     "name": "stdout",
     "output_type": "stream",
     "text": [
      "(13, 99) (1287, 99)\n",
      "(1287, 99)\n"
     ]
    }
   ],
   "source": [
    "# print(np.shape(dRdx_BG),dRdx_BG)\n",
    "dRdx_BG = np.array(dRdx_BG)\n",
    "# newdRdx_BG = np.zeros([dRdx_BG[0:11,:].size+2,dRdx_BG[0,:].size])\n",
    "newdRdx_BG = np.zeros([dRdx_BG.size,dRdx_BG[0,:].size])\n",
    "print(dRdx_BG.shape,newdRdx_BG.shape)\n",
    "x = 0\n",
    "for i in range(0,dRdx_BG[:,0].size):\n",
    "    for j in range(0,dRdx_BG[0,:].size):\n",
    "        newdRdx_BG[x+j,j] = dRdx_BG[i,j] + 1e-30\n",
    "    x += dRdx_BG[0,:].size\n",
    "    \n",
    "# newdRdx_BG[x:,:] = dRdx_BG[11:,:] + 1e-30\n",
    "\n",
    "#     print(x+j)\n",
    "print(newdRdx_BG.shape)"
   ]
  },
  {
   "cell_type": "markdown",
   "metadata": {},
   "source": [
    "lets now make many different background components..."
   ]
  },
  {
   "cell_type": "code",
   "execution_count": 6,
   "metadata": {},
   "outputs": [
    {
     "name": "stderr",
     "output_type": "stream",
     "text": [
      "/usr/local/lib/python3.6/site-packages/scipy/integrate/quadpack.py:385: IntegrationWarning: The maximum number of subdivisions (50) has been achieved.\n",
      "  If increasing the limit yields no improvement it is advised to analyze \n",
      "  the integrand in order to determine the difficulties.  If the position of a \n",
      "  local difficulty can be determined (singularity, discontinuity) one will \n",
      "  probably gain from splitting up the interval and calling the integrator \n",
      "  on the subranges.  Perhaps a special-purpose integrator should be used.\n",
      "  warnings.warn(msg, IntegrationWarning)\n",
      "/usr/local/lib/python3.6/site-packages/scipy/integrate/quadpack.py:385: IntegrationWarning: The occurrence of roundoff error is detected, which prevents \n",
      "  the requested tolerance from being achieved.  The error may be \n",
      "  underestimated.\n",
      "  warnings.warn(msg, IntegrationWarning)\n",
      "/usr/local/lib/python3.6/site-packages/scipy/integrate/quadpack.py:385: IntegrationWarning: The integral is probably divergent, or slowly convergent.\n",
      "  warnings.warn(msg, IntegrationWarning)\n"
     ]
    }
   ],
   "source": [
    "ref_sig = 1e-45\n",
    "mlist_best = np.logspace(-0.5,4,num=100)\n",
    "systematics = [1.0, 1.0, 1.0, 1.0, 1.0, 1.0, 1.0, 1.0, 1.0, 1.0, 1.0, 1e-3, 1e-3]\n",
    "SF = sf.Swordfish(list(dRdx_BG), T=systematics, E=np.ones_like(dRdx_BG[0])*100)\n",
    "\n",
    "limit_list_best = np.zeros_like(mlist_best)\n",
    "# DR_list_best = np.zeros_like(mlist)\n",
    "\n",
    "for i, m in enumerate(mlist_best):\n",
    "    sig = paleopy.GetSignal(Sinj, 15.0, m_DM=m, xsec=ref_sig)\n",
    "    UL = SF.upperlimit(sig, 0.05)\n",
    "#     DR = SF.discoveryreach(sig, 2.87e-7)\n",
    "    limit_list_best[i] = ref_sig * UL\n",
    "#     DR_list_best[i] = ref_sig * DR\n",
    "\n",
    "# np.savetxt('../ES/limits/lims_' + mineral.shortname +  '_exp' + str(exposure) + '_res' + str(sigma) + '.txt', list(zip(mlist, limit_list, DR_list)),\n",
    "#             header=\"Mineral: \" + mineral.name + \"; Exposure [kg Myr]: \" + str(exposure) + \"; sigma [nm]:\" + str(sigma) + \"\\nColumns: m [GeV], 95% upper limit [cm^2], 5-sig discovery reach [cm^2]\")"
   ]
  },
  {
   "cell_type": "code",
   "execution_count": null,
   "metadata": {},
   "outputs": [],
   "source": [
    "plt.loglog(mlist_best,limit_list_best)\n",
    "plt.show()"
   ]
  },
  {
   "cell_type": "code",
   "execution_count": null,
   "metadata": {},
   "outputs": [],
   "source": [
    "new_systematics10 = np.ones(np.shape(newdRdx_BG)[0])\n",
    "new_systematics1 = np.ones(np.shape(newdRdx_BG)[0])\n",
    "new_systematics1[-(2*dRdx_BG[0,:].size):] *= 1e-2\n",
    "new_systematics10[-(2*dRdx_BG[0,:].size):] *= 1e-1\n",
    "# print(new_systematics)\n",
    "new_systematics10 = list(new_systematics10)\n",
    "new_systematics1 = list(new_systematics1)"
   ]
  },
  {
   "cell_type": "code",
   "execution_count": null,
   "metadata": {},
   "outputs": [],
   "source": [
    "newdRdx_BG = list(newdRdx_BG)\n",
    "# print(new_systematics, newdRdx_BG)\n",
    "SF_1 = sf.Swordfish(newdRdx_BG, T=new_systematics1, E=np.ones_like(newdRdx_BG[0])*100)\n",
    "SF_10 = sf.Swordfish(newdRdx_BG, T=new_systematics10, E=np.ones_like(newdRdx_BG[0])*100)\n",
    "ref_sig = 1e-45\n",
    "mlist = np.logspace(-0.5,4,num=100)\n",
    "\n",
    "limit_list_10 = np.zeros_like(mlist)\n",
    "limit_list_1 = np.zeros_like(mlist)\n",
    "\n",
    "for i, m in enumerate(mlist):\n",
    "    sig = paleopy.GetSignal(Sinj, 15.0, m_DM=m, xsec=ref_sig)\n",
    "    UL_10 = SF_10.upperlimit(sig, 0.05)\n",
    "    UL_1 = SF_1.upperlimit(sig, 0.05)\n",
    "#     DR = SF.discoveryreach(sig, 2.87e-7)\n",
    "    limit_list_10[i] = ref_sig * UL_10\n",
    "    limit_list_1[i] = ref_sig * UL_1"
   ]
  },
  {
   "cell_type": "code",
   "execution_count": null,
   "metadata": {},
   "outputs": [],
   "source": [
    "plt.figure(figsize=(7,5))\n",
    "plt.xlabel(r'WIMP mass $m_\\chi$ [GeV]')\n",
    "plt.ylabel(r'WIMP-nucleon cross section $\\sigma_n^{\\mathrm{SI}}$ [cm$^2$]')\n",
    "plt.xlim(np.log10(6),10000)\n",
    "plt.ylim(4e-49,2e-43)\n",
    "plt.tight_layout(pad=0.3)\n",
    "plt.loglog(mlist,limit_list_best, label='Normal Systematics')\n",
    "plt.loglog(mlist,limit_list_10, label='10\\% bin to bin SF systematics')\n",
    "plt.loglog(mlist,limit_list_1, label='1\\% bin to bin SF Systematics')\n",
    "plt.legend()\n",
    "plt.tight_layout(pad=0.3)\n",
    "plt.title(r'Sinjarite')\n",
    "plt.text(8e3, 5.e-49, r'Projected $95\\%$ Upper limits; $\\sigma_{x_T} = 15\\,\\mathrm{nm}; \\,\\,\\epsilon = 100 \\,\\mathrm{kg}\\,\\mathrm{Myr}$', fontsize=14, ha='right')\n",
    "plt.tight_layout(pad=0.3)\n",
    "plt.savefig(\"../plots/Systematics_check_SFfree.pdf\")\n",
    "plt.show()"
   ]
  },
  {
   "cell_type": "code",
   "execution_count": null,
   "metadata": {},
   "outputs": [],
   "source": [
    "np.savetxt('../ES/limits/lims_Sinj_exp100.0_res15.0_SysCheck.txt',\n",
    "            list(zip(mlist, limit_list_best, limit_list_10,limit_list_1)),\n",
    "            header=\"Mineral: Sinjarite; Exposure [kg Myr]: 100.0; sigma [nm]:15.0 \\nColumns: m [GeV], 95% upper limit  [cm^2] (Normal Systematics), 95% upper limit [cm^2] (10% bin to bin sys), 95% upper limit [cm^2](1% bin to bin sys)\")\n",
    "\n"
   ]
  },
  {
   "cell_type": "markdown",
   "metadata": {},
   "source": [
    "# 1nm case now"
   ]
  },
  {
   "cell_type": "code",
   "execution_count": 106,
   "metadata": {},
   "outputs": [
    {
     "name": "stderr",
     "output_type": "stream",
     "text": [
      "/usr/local/lib/python3.6/site-packages/scipy/integrate/quadpack.py:385: IntegrationWarning: The maximum number of subdivisions (50) has been achieved.\n",
      "  If increasing the limit yields no improvement it is advised to analyze \n",
      "  the integrand in order to determine the difficulties.  If the position of a \n",
      "  local difficulty can be determined (singularity, discontinuity) one will \n",
      "  probably gain from splitting up the interval and calling the integrator \n",
      "  on the subranges.  Perhaps a special-purpose integrator should be used.\n",
      "  warnings.warn(msg, IntegrationWarning)\n"
     ]
    }
   ],
   "source": [
    "# xb = paleopy.calcBins_1nm()\n",
    "N_BG_1nm = paleopy.GetBackground(Sinj, sigma=1.0)"
   ]
  },
  {
   "cell_type": "code",
   "execution_count": 107,
   "metadata": {},
   "outputs": [
    {
     "name": "stdout",
     "output_type": "stream",
     "text": [
      "(13, 190) (2470, 190)\n",
      "(2470, 190)\n"
     ]
    }
   ],
   "source": [
    "N_BG_1nm = np.array(N_BG_1nm)\n",
    "N_BG_1nm_sysfree = np.zeros([N_BG_1nm.size,N_BG_1nm[0,:].size])\n",
    "print(N_BG_1nm.shape,N_BG_1nm_sysfree.shape)\n",
    "\n",
    "x = 0\n",
    "for i in range(0,N_BG_1nm[:,0].size):\n",
    "    for j in range(0,N_BG_1nm[0,:].size):\n",
    "        N_BG_1nm_sysfree[x+j,j] = N_BG_1nm[i,j] + 1e-30\n",
    "    x += N_BG_1nm[0,:].size\n",
    "\n",
    "print(N_BG_1nm_sysfree.shape)"
   ]
  },
  {
   "cell_type": "code",
   "execution_count": 135,
   "metadata": {},
   "outputs": [
    {
     "name": "stderr",
     "output_type": "stream",
     "text": [
      "/usr/local/lib/python3.6/site-packages/scipy/integrate/quadpack.py:385: IntegrationWarning: The maximum number of subdivisions (50) has been achieved.\n",
      "  If increasing the limit yields no improvement it is advised to analyze \n",
      "  the integrand in order to determine the difficulties.  If the position of a \n",
      "  local difficulty can be determined (singularity, discontinuity) one will \n",
      "  probably gain from splitting up the interval and calling the integrator \n",
      "  on the subranges.  Perhaps a special-purpose integrator should be used.\n",
      "  warnings.warn(msg, IntegrationWarning)\n",
      "/usr/local/lib/python3.6/site-packages/scipy/integrate/quadpack.py:385: IntegrationWarning: The integral is probably divergent, or slowly convergent.\n",
      "  warnings.warn(msg, IntegrationWarning)\n"
     ]
    }
   ],
   "source": [
    "ref_sig = 1e-45\n",
    "mlist1nm_best = np.logspace(-0.5,4,num=100)\n",
    "systematics = [1.0, 1.0, 1.0, 1.0, 1.0, 1.0, 1.0, 1.0, 1.0, 1.0, 1.0, 1e-3, 1e-3]\n",
    "SF1nm = sf.Swordfish(list(N_BG_1nm), T=systematics, E=np.ones_like(N_BG_1nm[0]))\n",
    "\n",
    "limit1nm_list_best = np.zeros_like(mlist1nm_best)\n",
    "# DR_list_best = np.zeros_like(mlist)\n",
    "\n",
    "for i, m in enumerate(mlist1nm_best):\n",
    "#     sig = paleopy.GetSignal(Sinj, sigma=1.0, m_DM=m, xsec=ref_sig, x_bins=xb)\n",
    "    sig = paleopy.GetSignal(Sinj, 1.0, m_DM=m, xsec=ref_sig)\n",
    "    UL = SF1nm.upperlimit(sig, 0.05)\n",
    "    limit1nm_list_best[i] = ref_sig * UL\n",
    "\n",
    "# np.savetxt('../ES/limits/lims_' + mineral.shortname +  '_exp' + str(exposure) + '_res' + str(sigma) + '.txt', list(zip(mlist, limit_list, DR_list)),\n",
    "#             header=\"Mineral: \" + mineral.name + \"; Exposure [kg Myr]: \" + str(exposure) + \"; sigma [nm]:\" + str(sigma) + \"\\nColumns: m [GeV], 95% upper limit [cm^2], 5-sig discovery reach [cm^2]\")"
   ]
  },
  {
   "cell_type": "code",
   "execution_count": 136,
   "metadata": {},
   "outputs": [
    {
     "name": "stderr",
     "output_type": "stream",
     "text": [
      "/usr/local/lib/python3.6/site-packages/matplotlib/font_manager.py:1328: UserWarning: findfont: Font family ['serif'] not found. Falling back to DejaVu Sans\n",
      "  (prop.get_family(), self.defaultFamily[fontext]))\n"
     ]
    },
    {
     "data": {
      "image/png": "[encoded data removed]",
      "text/plain": [
       "<Figure size 432x288 with 1 Axes>"
      ]
     },
     "metadata": {},
     "output_type": "display_data"
    }
   ],
   "source": [
    "plt.loglog(mlist1nm_best,limit1nm_list_best)\n",
    "plt.show()"
   ]
  },
  {
   "cell_type": "code",
   "execution_count": 118,
   "metadata": {},
   "outputs": [],
   "source": [
    "new1nm_systematics10 = np.ones(np.shape(N_BG_1nm_sysfree)[0])\n",
    "new1nm_systematics1 = np.ones(np.shape(N_BG_1nm_sysfree)[0])\n",
    "new1nm_systematics1[-(2*N_BG_1nm[0,:].size):] *= 1e-2\n",
    "new1nm_systematics10[-(2*N_BG_1nm[0,:].size):] *= 1e-1\n",
    "# print(new_systematics)\n",
    "new1nm_systematics10 = list(new1nm_systematics10)\n",
    "new1nm_systematics1 = list(new1nm_systematics1)"
   ]
  },
  {
   "cell_type": "code",
   "execution_count": 119,
   "metadata": {},
   "outputs": [
    {
     "name": "stderr",
     "output_type": "stream",
     "text": [
      "/usr/local/lib/python3.6/site-packages/scipy/integrate/quadpack.py:385: IntegrationWarning: The maximum number of subdivisions (50) has been achieved.\n",
      "  If increasing the limit yields no improvement it is advised to analyze \n",
      "  the integrand in order to determine the difficulties.  If the position of a \n",
      "  local difficulty can be determined (singularity, discontinuity) one will \n",
      "  probably gain from splitting up the interval and calling the integrator \n",
      "  on the subranges.  Perhaps a special-purpose integrator should be used.\n",
      "  warnings.warn(msg, IntegrationWarning)\n",
      "/usr/local/lib/python3.6/site-packages/scipy/integrate/quadpack.py:385: IntegrationWarning: The integral is probably divergent, or slowly convergent.\n",
      "  warnings.warn(msg, IntegrationWarning)\n"
     ]
    }
   ],
   "source": [
    "N_BG_1nm_sysfree = list(N_BG_1nm_sysfree)\n",
    "# print(new_systematics, newdRdx_BG)\n",
    "SF1nm_1 = sf.Swordfish(N_BG_1nm_sysfree, T=new1nm_systematics1, E=np.ones_like(N_BG_1nm_sysfree[0]))\n",
    "SF1nm_10 = sf.Swordfish(N_BG_1nm_sysfree, T=new1nm_systematics10, E=np.ones_like(N_BG_1nm_sysfree[0]))\n",
    "ref_sig = 1e-45\n",
    "mlist = np.logspace(-0.5,4,num=100)\n",
    "\n",
    "limit1nm_list_10 = np.zeros_like(mlist)\n",
    "limit1nm_list_1 = np.zeros_like(mlist)\n",
    "\n",
    "for i, m in enumerate(mlist):\n",
    "#     sig = paleopy.GetSignal(Sinj, sigma=1.0, m_DM=m, xsec=ref_sig, x_bins=xb)\n",
    "    sig = paleopy.GetSignal(Sinj, 1.0, m_DM=m, xsec=ref_sig)\n",
    "    UL_10 = SF1nm_10.upperlimit(sig, 0.05)\n",
    "    UL_1 = SF1nm_1.upperlimit(sig, 0.05)\n",
    "    limit1nm_list_10[i] = ref_sig * UL_10\n",
    "    limit1nm_list_1[i] = ref_sig * UL_1"
   ]
  },
  {
   "cell_type": "markdown",
   "metadata": {},
   "source": [
    "# REMEMBER TO SAVE THE LINES ---  TAKES AGES LIKE 12 HOURS!!!"
   ]
  },
  {
   "cell_type": "code",
   "execution_count": 141,
   "metadata": {},
   "outputs": [
    {
     "name": "stderr",
     "output_type": "stream",
     "text": [
      "/usr/local/lib/python3.6/site-packages/matplotlib/font_manager.py:1328: UserWarning: findfont: Font family ['serif'] not found. Falling back to DejaVu Sans\n",
      "  (prop.get_family(), self.defaultFamily[fontext]))\n",
      "/usr/local/lib/python3.6/site-packages/matplotlib/font_manager.py:1328: UserWarning: findfont: Font family ['serif'] not found. Falling back to DejaVu Sans\n",
      "  (prop.get_family(), self.defaultFamily[fontext]))\n"
     ]
    },
    {
     "data": {
      "image/png": "[encoded data removed]",
      "text/plain": [
       "<Figure size 504x360 with 1 Axes>"
      ]
     },
     "metadata": {},
     "output_type": "display_data"
    }
   ],
   "source": [
    "plt.figure(figsize=(7,5))\n",
    "plt.xlabel(r'WIMP mass $m_\\chi$ [GeV]')\n",
    "plt.ylabel(r'WIMP-nucleon cross section $\\sigma_n^{\\mathrm{SI}}$ [cm$^2$]')\n",
    "plt.xlim(np.log10(6),10000)\n",
    "plt.ylim(4e-49,2e-43)\n",
    "plt.tight_layout(pad=0.3)\n",
    "plt.loglog(mlist,limit1nm_list_best, label='Normal Systematics')\n",
    "plt.loglog(mlist,limit1nm_list_10, label='10\\% bin to bin SF systematics')\n",
    "plt.loglog(mlist,limit1nm_list_1, label='1\\% bin to bin SF Systematics')\n",
    "plt.legend()\n",
    "plt.tight_layout(pad=0.3)\n",
    "plt.title(r'Sinjarite')\n",
    "plt.text(8e3, 5.e-49, r'Projected $95\\%$ Upper limits; $\\sigma_{x_T} = 1\\,\\mathrm{nm}; \\,\\,\\epsilon = 1 \\,\\mathrm{kg}\\,\\mathrm{Myr}$', fontsize=14, ha='right')\n",
    "plt.tight_layout(pad=0.3)\n",
    "plt.savefig(\"../plots/Systematics_check_1nmSFfree.pdf\")\n",
    "plt.show()"
   ]
  },
  {
   "cell_type": "code",
   "execution_count": 142,
   "metadata": {},
   "outputs": [],
   "source": [
    "np.savetxt('../ES/limits/lims_Sinj_exp1.0_res1.0_SysCheck.txt',\n",
    "            list(zip(mlist, limit1nm_list_best, limit1nm_list_10,limit1nm_list_1)),\n",
    "            header=\"Mineral: Sinjarite; Exposure [kg Myr]: 1.0; sigma [nm]:1.0 \\nColumns: m [GeV], 95% upper limit  [cm^2] (Normal Systematics), 95% upper limit [cm^2] (10% bin to bin sys), 95% upper limit [cm^2](1% bin to bin sys)\")\n",
    "\n"
   ]
  },
  {
   "cell_type": "code",
   "execution_count": null,
   "metadata": {},
   "outputs": [],
   "source": []
  }
 ],
 "metadata": {
  "kernelspec": {
   "display_name": "Python 3",
   "language": "python",
   "name": "python3"
  },
  "language_info": {
   "codemirror_mode": {
    "name": "ipython",
    "version": 3
   },
   "file_extension": ".py",
   "mimetype": "text/x-python",
   "name": "python",
   "nbconvert_exporter": "python",
   "pygments_lexer": "ipython3",
   "version": "3.6.5"
  }
 },
 "nbformat": 4,
 "nbformat_minor": 2
}
