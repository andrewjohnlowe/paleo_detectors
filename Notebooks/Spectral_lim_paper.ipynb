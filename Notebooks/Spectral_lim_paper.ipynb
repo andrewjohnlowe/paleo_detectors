{
 "cells": [
  {
   "cell_type": "markdown",
   "metadata": {},
   "source": [
    "# Spectral Analysis for paper"
   ]
  },
  {
   "cell_type": "code",
   "execution_count": 1,
   "metadata": {},
   "outputs": [],
   "source": [
    "import numpy as np\n",
    "import matplotlib.pyplot as plt\n",
    "from matplotlib import rc\n",
    "from tqdm import tqdm\n",
    "import swordfish as sf\n",
    "from WIMpy import DMUtils as DMU\n",
    "from scipy.interpolate import interp1d\n",
    "from scipy.integrate import cumtrapz\n",
    "\n",
    "from scipy.integrate import cumtrapz\n",
    "\n",
    "rc('text', usetex=True)\n",
    "rc('font',**{'family':'sans-serif','sans-serif':['cmr']})\n",
    "rc('font',**{'family':'serif','serif':['cmr']})\n",
    "%matplotlib inline"
   ]
  },
  {
   "cell_type": "markdown",
   "metadata": {},
   "source": [
    "#### Load information for Sylvanite"
   ]
  },
  {
   "cell_type": "code",
   "execution_count": 20,
   "metadata": {},
   "outputs": [],
   "source": [
    "nuclei_Syl = [\"Au\", \"Ag\", \"Te\"]\n",
    "Syl_abun = np.array([0.343,0.0627,0.5936])\n",
    "Syl_p = np.array([79,47,52])\n",
    "Syl_n = np.array([118,61,76])\n",
    "\n",
    "E_Au, dEedx_Au, dEdx_data_Au = np.loadtxt(\"../Data/dRdESRIM/Au-Syl-CC1.txt\", usecols=(0,1,2), unpack=True)\n",
    "E_Ag, dEedx_Ag, dEdx_data_Ag = np.loadtxt(\"../Data/dRdESRIM/Ag-Syl-CC1.txt\", usecols=(0,1,2), unpack=True)\n",
    "E_Te, dEedx_Te, dEdx_data_Te = np.loadtxt(\"../Data/dRdESRIM/Te-Syl-CC1.txt\", usecols=(0,1,2), unpack=True)\n",
    "\n",
    "dEdx_data_Au += dEedx_Au\n",
    "dEdx_data_Ag += dEedx_Ag\n",
    "dEdx_data_Te += dEedx_Te\n",
    "\n",
    "dEdx_data_Au *= 1.e-3 # Convert keV/micro_m to keV/nm\n",
    "dEdx_data_Ag *= 1.e-3 # Convert keV/micro_m to keV/nm\n",
    "dEdx_data_Te *= 1.e-3 # Convert keV/micro_m to keV/nm\n",
    "\n",
    "x_Au = cumtrapz(1/dEdx_data_Au,x=E_Au, initial=0)\n",
    "x_Ag = cumtrapz(1/dEdx_data_Ag,x=E_Ag, initial=0)\n",
    "x_Te = cumtrapz(1/dEdx_data_Te,x=E_Te, initial=0)\n",
    "\n",
    "Etox_Au = interp1d(E_Au, x_Au, fill_value='extrapolate')\n",
    "Etox_Ag = interp1d(E_Ag, x_Ag, fill_value='extrapolate')\n",
    "Etox_Te = interp1d(E_Te, x_Te, fill_value='extrapolate')\n",
    "\n",
    "dEdx_Au = interp1d(x_Au, dEdx_data_Au, fill_value='extrapolate')\n",
    "dEdx_Ag = interp1d(x_Ag, dEdx_data_Ag, fill_value='extrapolate')\n",
    "dEdx_Te = interp1d(x_Te, dEdx_data_Te, fill_value='extrapolate')\n",
    "\n",
    "xtoE_Au = interp1d(x_Au, E_Au, fill_value='extrapolate')\n",
    "xtoE_Ag = interp1d(x_Ag, E_Ag, fill_value='extrapolate')\n",
    "xtoE_Te = interp1d(x_Te, E_Te, fill_value='extrapolate')\n",
    "\n",
    "dEdx_Syl = [dEdx_Au,dEdx_Ag,dEdx_Te]\n",
    "Etox_Syl = [Etox_Au,Etox_Ag,Etox_Te]\n",
    "xtoE_Syl = [xtoE_Au,xtoE_Ag,xtoE_Te]\n",
    "\n",
    "dEdx_nuclei_Syl = dict(zip(nuclei_Syl, dEdx_Syl))\n",
    "Etox_nuclei_Syl = dict(zip(nuclei_Syl, Etox_Syl))\n",
    "xtoE_nuclei_Syl = dict(zip(nuclei_Syl, xtoE_Syl))\n",
    "ratio_nuclei_Syl = dict(zip(nuclei_Syl, Syl_abun))"
   ]
  },
  {
   "cell_type": "markdown",
   "metadata": {},
   "source": [
    "#### Load information for Zabuyelite"
   ]
  },
  {
   "cell_type": "code",
   "execution_count": 25,
   "metadata": {},
   "outputs": [],
   "source": [
    "nuclei_Zab = [\"Li\", \"C\", \"O\"]\n",
    "Zab_abun = np.array([0.189,0.162,0.649])\n",
    "Zab_p = np.array([3,6,8])\n",
    "Zab_n = np.array([4,6,8])\n",
    "\n",
    "#NB: The interpolation function had the same name as \"dEdx_Li\" as the data you were loading in\n",
    "#I've renamed the arrays to dEdx_data_Li (etc.), to clear this up...\n",
    "#2338\n",
    "E_Li, dEedx_Li, dEdx_data_Li = np.loadtxt(\"../Data/dRdESRIM/Li-Zab-CC2338.txt\", usecols=(0,1,2), unpack=True)\n",
    "E_C, dEedx_C, dEdx_data_C = np.loadtxt(\"../Data/dRdESRIM/C-Zab-CC2338.txt\", usecols=(0,1,2), unpack=True)\n",
    "E_O, dEedx_O, dEdx_data_O = np.loadtxt(\"../Data/dRdESRIM/O-Zab-CC2338.txt\", usecols=(0,1,2), unpack=True)\n",
    "\n",
    "# Add electronic stopping to nuclear stopping\n",
    "dEdx_data_Li += dEedx_Li \n",
    "dEdx_data_C += dEedx_C \n",
    "dEdx_data_O += dEedx_O \n",
    "\n",
    "dEdx_data_Li *= 1.e-3 # Convert keV/micro_m to keV/nm\n",
    "dEdx_data_C *= 1.e-3 # Convert keV/micro_m to keV/nm\n",
    "dEdx_data_O *= 1.e-3 # Convert keV/micro_m to keV/nm\n",
    "\n",
    "x_Li = cumtrapz(1/dEdx_data_Li,x=E_Li, initial=0)\n",
    "x_C = cumtrapz(1/dEdx_data_C,x=E_C, initial=0)\n",
    "x_O = cumtrapz(1/dEdx_data_O,x=E_O, initial=0)\n",
    "\n",
    "Etox_Li = interp1d(E_Li, x_Li, bounds_error=False, fill_value='extrapolate')\n",
    "Etox_C = interp1d(E_C, x_C, bounds_error=False, fill_value='extrapolate')\n",
    "Etox_O = interp1d(E_O, x_O, bounds_error=False, fill_value='extrapolate')\n",
    "\n",
    "xtoE_Li = interp1d(x_Li, E_Li, bounds_error=False, fill_value='extrapolate')\n",
    "xtoE_C = interp1d(x_C, E_C, bounds_error=False, fill_value='extrapolate')\n",
    "xtoE_O = interp1d(x_O, E_O, bounds_error=False, fill_value='extrapolate')\n",
    "\n",
    "dEdx_Li = interp1d(x_Li, dEdx_data_Li, bounds_error=False, fill_value='extrapolate')\n",
    "dEdx_C = interp1d(x_C, dEdx_data_C, bounds_error=False, fill_value='extrapolate')\n",
    "dEdx_O = interp1d(x_O, dEdx_data_O, bounds_error=False, fill_value='extrapolate')\n",
    "\n",
    "dEdxZab = [dEdx_Li,dEdx_C,dEdx_O]\n",
    "EtoxZab = [Etox_Li,Etox_C,Etox_O]\n",
    "xtoE_Zab = [xtoE_Li,xtoE_C,xtoE_O]\n",
    "\n",
    "dEdx_nuclei_Zab = dict(zip(nuclei_Zab, dEdxZab))\n",
    "Etox_nuclei_Zab = dict(zip(nuclei_Zab, EtoxZab))\n",
    "ratio_nuclei_Zab = dict(zip(nuclei_Zab, Zab_abun))\n",
    "xtoE_nuclei_Zab = dict(zip(nuclei_Zab, xtoE_Zab))"
   ]
  },
  {
   "cell_type": "code",
   "execution_count": 50,
   "metadata": {},
   "outputs": [],
   "source": [
    "def dRdx(x, sigma, m, rock='Zab'):\n",
    "    \"Returns in events/nm/kg/Myr\"\n",
    "    if rock == 'Zab':\n",
    "        nuclei = nuclei_Zab\n",
    "        abun = Zab_abun\n",
    "        xtoE_nuclei = xtoE_nuclei_Zab\n",
    "        p = Zab_p\n",
    "        n = Zab_n\n",
    "        ratio_nuclei = ratio_nuclei_Zab\n",
    "        dEdx_nuclei = dEdx_nuclei_Zab\n",
    "        \n",
    "    elif rock == 'Syl':\n",
    "        nuclei = nuclei_Syl\n",
    "        abun = Syl_abun\n",
    "        xtoE_nuclei = xtoE_nuclei_Syl \n",
    "        p = Syl_p\n",
    "        n = Syl_n\n",
    "        ratio_nuclei = ratio_nuclei_Syl\n",
    "        dEdx_nuclei = dEdx_nuclei_Syl\n",
    "        \n",
    "    dRdx = np.zeros_like(x)\n",
    "    for i, nuc in enumerate(nuclei):\n",
    "        Etemp = xtoE_nuclei[nuc](x)\n",
    "        dRdx_nuc = (DMU.dRdE_standard(Etemp, p[i], n[i], m, sigma)\n",
    "                                                    *dEdx_nuclei[nuc](x))\n",
    "        dRdx += ratio_nuclei[nuc]*dRdx_nuc\n",
    "    return dRdx*1e6*365"
   ]
  },
  {
   "cell_type": "code",
   "execution_count": 146,
   "metadata": {},
   "outputs": [
    {
     "name": "stderr",
     "output_type": "stream",
     "text": [
      "/usr/local/lib/python3.6/site-packages/matplotlib/font_manager.py:1328: UserWarning: findfont: Font family ['serif'] not found. Falling back to DejaVu Sans\n",
      "  (prop.get_family(), self.defaultFamily[fontext]))\n"
     ]
    },
    {
     "data": {
      "image/png": "[encoded data removed]",
      "text/plain": [
       "<Figure size 432x288 with 1 Axes>"
      ]
     },
     "metadata": {},
     "output_type": "display_data"
    }
   ],
   "source": [
    "x_bins = np.linspace(1,1000,67)\n",
    "x_width = np.diff(x_bins)\n",
    "x_c = x_bins[:-1] + x_width/2\n",
    "E_list = np.logspace(-1, 3, 500) # keV\n",
    "\n",
    "Syl = dRdx(x_c, 1e-45, 500, rock='Syl')\n",
    "Zab = dRdx(x_c, 1e-45, 500, rock='Zab')\n",
    "plt.loglog(x_c, Syl, label='Syl 500 GeV')\n",
    "plt.loglog(x_c, Zab, label='Zab 500 GeV')\n",
    "plt.legend()\n",
    "plt.ylabel(\"dR/dx [1/nm/kg/Myr]\")\n",
    "plt.xlabel(\"x [nm]\")\n",
    "plt.ylim(1e-4,1e6)\n",
    "plt.xlim(1,1000)\n",
    "plt.show()"
   ]
  },
  {
   "cell_type": "markdown",
   "metadata": {},
   "source": [
    "#### Now we need to load the backgrounds"
   ]
  },
  {
   "cell_type": "code",
   "execution_count": 154,
   "metadata": {},
   "outputs": [],
   "source": [
    "nu_list = ['DSNB', 'atm', 'hep', '8B', '15O', '17F', '13N', 'pep']\n",
    "from scipy.ndimage.filters import gaussian_filter1d\n",
    "\n",
    "def dRdx_nu(x, E, rock='Zab', components=False, gaussian=False):\n",
    "    \"Returns in events/nm/kg/Myr\"\n",
    "    nu_list = ['DSNB', 'atm', 'hep', '8B', '15O', '17F', '13N', 'pep']\n",
    "    if rock == 'Zab':\n",
    "        nuclei = nuclei_Zab\n",
    "        abun = Zab_abun\n",
    "        Etox_nuclei = Etox_nuclei_Zab\n",
    "        p = Zab_p\n",
    "        n = Zab_n\n",
    "        ratio_nuclei = ratio_nuclei_Zab\n",
    "        dEdx_nuclei = dEdx_nuclei_Zab\n",
    "        \n",
    "    elif rock == 'Syl':\n",
    "        nuclei = nuclei_Syl\n",
    "        abun = Syl_abun\n",
    "        Etox_nuclei = Etox_nuclei_Syl \n",
    "        p = Syl_p\n",
    "        n = Syl_n\n",
    "        ratio_nuclei = ratio_nuclei_Syl\n",
    "        dEdx_nuclei = dEdx_nuclei_Syl\n",
    "    \n",
    "    if components:\n",
    "        dRdx = []\n",
    "#         dRdx = np.zeros([len(nu_list),len(x)])\n",
    "        dRdx_temp = np.zeros_like(x)\n",
    "        for j, nu_source in enumerate(nu_list):\n",
    "            for i, nuc in enumerate(nuclei):\n",
    "                xtemp = Etox_nuclei[nuc](E)\n",
    "                dRdx_nuc = (np.vectorize(DMU.dRdE_CEvNS)(E, p[i], n[i], flux_name=nu_source)\n",
    "                                                            *dEdx_nuclei[nuc](xtemp))\n",
    "                temp_interp = interp1d(xtemp, dRdx_nuc, fill_value='extrapolate')\n",
    "                dRdx_temp += ratio_nuclei[nuc]*temp_interp(x)\n",
    "#             dRdx[j,:] += dRdx_temp*1e6*365\n",
    "            if gaussian:\n",
    "                dRdx.append(gaussian_filter1d(dRdx_temp*1e6*365,1)+1e-20)\n",
    "            else:\n",
    "                dRdx.append(dRdx_temp*1e6*365)+1e-20\n",
    "    else:\n",
    "        dRdx = np.zeros_like(x)\n",
    "        for i, nuc in enumerate(nuclei):\n",
    "            xtemp = Etox_nuclei[nuc](E)\n",
    "            dRdx_nuc = (np.vectorize(DMU.dRdE_CEvNS)(E, p[i], n[i], flux_name='all')\n",
    "                                                        *dEdx_nuclei[nuc](xtemp))\n",
    "            temp_interp = interp1d(xtemp, dRdx_nuc, fill_value='extrapolate')\n",
    "            dRdx += ratio_nuclei[nuc]*temp_interp(x)*1e6*365\n",
    "        if gaussian:\n",
    "            dRdx = gaussian_filter1d(dRdx*1e6*365,1)+1e-20\n",
    "    return dRdx\n",
    "\n",
    "dRdx_Sylnu = dRdx_nu(x_c, E_list, rock='Syl', components=True, gaussian=True)\n",
    "dRdx_Zabnu = dRdx_nu(x_c, E_list, rock='Zab', components=True, gaussian=True)"
   ]
  },
  {
   "cell_type": "code",
   "execution_count": 157,
   "metadata": {},
   "outputs": [
    {
     "name": "stderr",
     "output_type": "stream",
     "text": [
      "/usr/local/lib/python3.6/site-packages/matplotlib/font_manager.py:1328: UserWarning: findfont: Font family ['serif'] not found. Falling back to DejaVu Sans\n",
      "  (prop.get_family(), self.defaultFamily[fontext]))\n"
     ]
    },
    {
     "data": {
      "image/png": "[encoded data removed]",
      "text/plain": [
       "<Figure size 432x288 with 1 Axes>"
      ]
     },
     "metadata": {},
     "output_type": "display_data"
    }
   ],
   "source": [
    "for i, nusource in enumerate(nu_list):\n",
    "    plt.loglog(x_c,dRdx_Sylnu[i], label=nusource)\n",
    "    plt.loglog(x_c,dRdx_Sylnu_gauss[i], label=nusource, ls='--')\n",
    "\n",
    "# plt.loglog(x_c,dRdx_Sylnu[0], 'C0', label='test')\n",
    "# plt.loglog(x_c,dRdx_Sylnu_gauss[0], 'C0', label='test', ls='--')\n",
    "    \n",
    "# plt.loglog(x_c, dRdx_Sylnu_all, label='Total')\n",
    "plt.legend()\n",
    "plt.ylabel(\"dR/dx [1/nm/kg/Myr]\")\n",
    "plt.xlabel(\"x [nm]\")\n",
    "plt.ylim(1e-4,1e6)\n",
    "plt.xlim(1,1000)\n",
    "plt.show()"
   ]
  },
  {
   "cell_type": "code",
   "execution_count": 165,
   "metadata": {},
   "outputs": [],
   "source": [
    "ref_sig = 1e-47\n",
    "systematics = [0.5,0.5,0.5,0.5,0.5,0.5,0.5,0.5]\n",
    "mlist = np.logspace(-0.5,4,num=100)\n",
    "Syl_limit = np.zeros_like(mlist)\n",
    "Syl_DR = np.zeros_like(mlist)\n",
    "\n",
    "for i, m in enumerate(mlist):\n",
    "    SF = sf.Swordfish(dRdx_Sylnu, T=systematics, E=np.ones_like(dRdx_Sylnu[0])*100)\n",
    "    sig = gaussian_filter1d(dRdx(x_c, ref_sig, m, rock='Syl'),1)+1e-20\n",
    "    UL = SF.upperlimit(sig, 0.05)\n",
    "    DR = SF.discoveryreach(sig, 2.87e-7)\n",
    "    Syl_limit[i] = ref_sig * UL\n",
    "    Syl_DR[i] = ref_sig * DR"
   ]
  },
  {
   "cell_type": "code",
   "execution_count": 166,
   "metadata": {},
   "outputs": [],
   "source": [
    "ref_sig = 1e-47\n",
    "systematics = [0.5,0.5,0.5,0.5,0.5,0.5,0.5,0.5]\n",
    "Zab_limit = np.zeros_like(mlist)\n",
    "Zab_DR = np.zeros_like(mlist)\n",
    "\n",
    "for i, m in enumerate(mlist):\n",
    "    SF = sf.Swordfish(dRdx_Zabnu, T=systematics, E=np.ones_like(dRdx_Zabnu[0])*100)\n",
    "    sig = gaussian_filter1d(dRdx(x_c, ref_sig, m, rock='Zab'),1)+1e-20\n",
    "    UL = SF.upperlimit(sig, 0.05)\n",
    "    DR = SF.discoveryreach(sig, 2.87e-7)\n",
    "    Zab_limit[i] = ref_sig * UL\n",
    "    Zab_DR[i] = ref_sig * DR"
   ]
  },
  {
   "cell_type": "code",
   "execution_count": 168,
   "metadata": {},
   "outputs": [
    {
     "name": "stderr",
     "output_type": "stream",
     "text": [
      "/usr/local/lib/python3.6/site-packages/matplotlib/font_manager.py:1328: UserWarning: findfont: Font family ['serif'] not found. Falling back to DejaVu Sans\n",
      "  (prop.get_family(), self.defaultFamily[fontext]))\n",
      "/usr/local/lib/python3.6/site-packages/matplotlib/font_manager.py:1328: UserWarning: findfont: Font family ['serif'] not found. Falling back to DejaVu Sans\n",
      "  (prop.get_family(), self.defaultFamily[fontext]))\n"
     ]
    },
    {
     "data": {
      "image/png": "[encoded data removed]",
      "text/plain": [
       "<Figure size 360x288 with 1 Axes>"
      ]
     },
     "metadata": {},
     "output_type": "display_data"
    }
   ],
   "source": [
    "plt.figure(figsize=(5,4))\n",
    "plt.loglog(mlist,Syl_limit, color='C0', linestyle='-', label=r'Sylvanite 95\\% UL')\n",
    "plt.loglog(mlist,Syl_DR, color='C0', linestyle='--', label=r'Sylvanite $5\\sigma$ DR')\n",
    "plt.loglog(mlist,Zab_limit, color='C1', linestyle='-', label=r'Zabuyelite 95\\% UL')\n",
    "plt.loglog(mlist,Zab_DR, color='C1', linestyle='--', label=r'Zabuyelite $5\\sigma$ DR')\n",
    "plt.ylabel(r'$\\sigma_{\\mathrm{SI}} ~[\\mathrm{cm}^2]$')\n",
    "plt.xlabel(r'$m_{\\mathrm{DM}} ~[\\mathrm{GeV}]$')\n",
    "plt.xlim(10**(-0.5),1e4)\n",
    "plt.ylim(1e-49,1e-42)\n",
    "plt.legend()\n",
    "plt.tight_layout(pad=0.3)\n",
    "# plt.show()\n",
    "plt.savefig(\"../plots/limits_nubkg_separate.pdf\")"
   ]
  },
  {
   "cell_type": "code",
   "execution_count": null,
   "metadata": {},
   "outputs": [],
   "source": []
  }
 ],
 "metadata": {
  "kernelspec": {
   "display_name": "Python 3",
   "language": "python",
   "name": "python3"
  },
  "language_info": {
   "codemirror_mode": {
    "name": "ipython",
    "version": 3
   },
   "file_extension": ".py",
   "mimetype": "text/x-python",
   "name": "python",
   "nbconvert_exporter": "python",
   "pygments_lexer": "ipython3",
   "version": "3.6.5"
  }
 },
 "nbformat": 4,
 "nbformat_minor": 2
}
