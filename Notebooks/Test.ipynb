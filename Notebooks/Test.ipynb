{
 "cells": [
  {
   "cell_type": "code",
   "execution_count": 1,
   "metadata": {},
   "outputs": [
    {
     "data": {
      "text/plain": [
       "<module 'paleo.paleopy' from '/Users/bradkav/Code/paleo_detectors/Notebooks/paleo/paleopy.py'>"
      ]
     },
     "execution_count": 1,
     "metadata": {},
     "output_type": "execute_result"
    }
   ],
   "source": [
    "from paleo.paleopy_classes import *\n",
    "import paleo.paleopy as paleopy\n",
    "from matplotlib import pyplot as plt\n",
    "\n",
    "from matplotlib.ticker import LogLocator\n",
    "\n",
    "import matplotlib as mpl\n",
    "rc('text', usetex=True)\n",
    "rc('font',**{'family':'sans-serif','sans-serif':['cmr']})\n",
    "rc('font',**{'family':'serif','serif':['cmr']})\n",
    "rc('font', size=16)\n",
    "#mpl.rcParams.update({'font.size': 16,'font.family':'serif'})\n",
    "\n",
    "mpl.rcParams['xtick.top'] = True\n",
    "mpl.rcParams['ytick.right'] = True\n",
    "\n",
    "import importlib\n",
    "importlib.reload(paleopy)"
   ]
  },
  {
   "cell_type": "code",
   "execution_count": 2,
   "metadata": {},
   "outputs": [],
   "source": [
    "Sinj = Mineral(\"Sinjarite\")"
   ]
  },
  {
   "cell_type": "code",
   "execution_count": null,
   "metadata": {},
   "outputs": [],
   "source": []
  },
  {
   "cell_type": "code",
   "execution_count": null,
   "metadata": {},
   "outputs": [],
   "source": []
  }
 ],
 "metadata": {
  "kernelspec": {
   "display_name": "Python 3",
   "language": "python",
   "name": "python3"
  },
  "language_info": {
   "codemirror_mode": {
    "name": "ipython",
    "version": 3
   },
   "file_extension": ".py",
   "mimetype": "text/x-python",
   "name": "python",
   "nbconvert_exporter": "python",
   "pygments_lexer": "ipython3",
   "version": "3.6.4"
  }
 },
 "nbformat": 4,
 "nbformat_minor": 2
}
